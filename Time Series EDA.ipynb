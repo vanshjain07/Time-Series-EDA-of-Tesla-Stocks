{
 "cells": [
  {
   "cell_type": "code",
   "execution_count": 1,
   "id": "00da77e7-916a-49b5-9bbc-df5a05a752c7",
   "metadata": {},
   "outputs": [
    {
     "name": "stdout",
     "output_type": "stream",
     "text": [
      "Requirement already satisfied: pandas-datareader in /opt/anaconda3/lib/python3.12/site-packages (0.10.0)\n",
      "Requirement already satisfied: lxml in /opt/anaconda3/lib/python3.12/site-packages (from pandas-datareader) (5.2.1)\n",
      "Requirement already satisfied: pandas>=0.23 in /opt/anaconda3/lib/python3.12/site-packages (from pandas-datareader) (2.2.2)\n",
      "Requirement already satisfied: requests>=2.19.0 in /opt/anaconda3/lib/python3.12/site-packages (from pandas-datareader) (2.32.3)\n",
      "Requirement already satisfied: numpy>=1.26.0 in /opt/anaconda3/lib/python3.12/site-packages (from pandas>=0.23->pandas-datareader) (1.26.4)\n",
      "Requirement already satisfied: python-dateutil>=2.8.2 in /opt/anaconda3/lib/python3.12/site-packages (from pandas>=0.23->pandas-datareader) (2.9.0.post0)\n",
      "Requirement already satisfied: pytz>=2020.1 in /opt/anaconda3/lib/python3.12/site-packages (from pandas>=0.23->pandas-datareader) (2024.1)\n",
      "Requirement already satisfied: tzdata>=2022.7 in /opt/anaconda3/lib/python3.12/site-packages (from pandas>=0.23->pandas-datareader) (2023.3)\n",
      "Requirement already satisfied: charset-normalizer<4,>=2 in /opt/anaconda3/lib/python3.12/site-packages (from requests>=2.19.0->pandas-datareader) (3.3.2)\n",
      "Requirement already satisfied: idna<4,>=2.5 in /opt/anaconda3/lib/python3.12/site-packages (from requests>=2.19.0->pandas-datareader) (3.7)\n",
      "Requirement already satisfied: urllib3<3,>=1.21.1 in /opt/anaconda3/lib/python3.12/site-packages (from requests>=2.19.0->pandas-datareader) (2.2.3)\n",
      "Requirement already satisfied: certifi>=2017.4.17 in /opt/anaconda3/lib/python3.12/site-packages (from requests>=2.19.0->pandas-datareader) (2025.4.26)\n",
      "Requirement already satisfied: six>=1.5 in /opt/anaconda3/lib/python3.12/site-packages (from python-dateutil>=2.8.2->pandas>=0.23->pandas-datareader) (1.16.0)\n",
      "Note: you may need to restart the kernel to use updated packages.\n"
     ]
    }
   ],
   "source": [
    "pip install pandas-datareader"
   ]
  },
  {
   "cell_type": "code",
   "execution_count": 2,
   "id": "234dbd94-9dcf-4444-8a59-e405a789424a",
   "metadata": {},
   "outputs": [],
   "source": [
    "import pandas_datareader as pdr\n",
    "import pandas as pd\n",
    "import numpy as np\n",
    "from datetime import datetime"
   ]
  },
  {
   "cell_type": "code",
   "execution_count": 3,
   "id": "a3091632-2165-406d-ae4b-e58bee2b1c9c",
   "metadata": {},
   "outputs": [
    {
     "ename": "RemoteDataError",
     "evalue": "Unable to read URL: https://finance.yahoo.com/quote/TSLA/history?period1=1593037800&period2=1750804199&interval=1d&frequency=1d&filter=history\nResponse Text:\nb'<html><meta charset=\\'utf-8\\'>\\n<script>\\nif(window != window.top){\\ndocument.write(\\'<p>Content is currently unavailable.</p><img src=\"//geo.yahoo.com/p?s=1197757039&t=\\'\\n    + new Date().getTime() + \\'&_R=\\'\\n    + encodeURIComponent(document.referrer)\\n    + \\'&err=404\\'\\n    + \\'\" width=\"0px\" height=\"0px\"/>\\');\\n}else{\\nwindow.location.replace(\\'https://\\' + window.location.host + \\'/?err=404\\');\\n}\\n</script>\\n<noscript>\\n<META http-equiv=\"refresh\" content=\"0;URL=https://finance.yahoo.com/?err=404\">\\n</noscript></html>'",
     "output_type": "error",
     "traceback": [
      "\u001b[0;31m---------------------------------------------------------------------------\u001b[0m",
      "\u001b[0;31mRemoteDataError\u001b[0m                           Traceback (most recent call last)",
      "Cell \u001b[0;32mIn[3], line 1\u001b[0m\n\u001b[0;32m----> 1\u001b[0m pdr\u001b[38;5;241m.\u001b[39mget_data_yahoo(\u001b[38;5;124m'\u001b[39m\u001b[38;5;124mTSLA\u001b[39m\u001b[38;5;124m'\u001b[39m)\n",
      "File \u001b[0;32m/opt/anaconda3/lib/python3.12/site-packages/pandas_datareader/data.py:80\u001b[0m, in \u001b[0;36mget_data_yahoo\u001b[0;34m(*args, **kwargs)\u001b[0m\n\u001b[1;32m     79\u001b[0m \u001b[38;5;28;01mdef\u001b[39;00m \u001b[38;5;21mget_data_yahoo\u001b[39m(\u001b[38;5;241m*\u001b[39margs, \u001b[38;5;241m*\u001b[39m\u001b[38;5;241m*\u001b[39mkwargs):\n\u001b[0;32m---> 80\u001b[0m     \u001b[38;5;28;01mreturn\u001b[39;00m YahooDailyReader(\u001b[38;5;241m*\u001b[39margs, \u001b[38;5;241m*\u001b[39m\u001b[38;5;241m*\u001b[39mkwargs)\u001b[38;5;241m.\u001b[39mread()\n",
      "File \u001b[0;32m/opt/anaconda3/lib/python3.12/site-packages/pandas_datareader/base.py:253\u001b[0m, in \u001b[0;36m_DailyBaseReader.read\u001b[0;34m(self)\u001b[0m\n\u001b[1;32m    251\u001b[0m \u001b[38;5;66;03m# If a single symbol, (e.g., 'GOOG')\u001b[39;00m\n\u001b[1;32m    252\u001b[0m \u001b[38;5;28;01mif\u001b[39;00m \u001b[38;5;28misinstance\u001b[39m(\u001b[38;5;28mself\u001b[39m\u001b[38;5;241m.\u001b[39msymbols, (string_types, \u001b[38;5;28mint\u001b[39m)):\n\u001b[0;32m--> 253\u001b[0m     df \u001b[38;5;241m=\u001b[39m \u001b[38;5;28mself\u001b[39m\u001b[38;5;241m.\u001b[39m_read_one_data(\u001b[38;5;28mself\u001b[39m\u001b[38;5;241m.\u001b[39murl, params\u001b[38;5;241m=\u001b[39m\u001b[38;5;28mself\u001b[39m\u001b[38;5;241m.\u001b[39m_get_params(\u001b[38;5;28mself\u001b[39m\u001b[38;5;241m.\u001b[39msymbols))\n\u001b[1;32m    254\u001b[0m \u001b[38;5;66;03m# Or multiple symbols, (e.g., ['GOOG', 'AAPL', 'MSFT'])\u001b[39;00m\n\u001b[1;32m    255\u001b[0m \u001b[38;5;28;01melif\u001b[39;00m \u001b[38;5;28misinstance\u001b[39m(\u001b[38;5;28mself\u001b[39m\u001b[38;5;241m.\u001b[39msymbols, DataFrame):\n",
      "File \u001b[0;32m/opt/anaconda3/lib/python3.12/site-packages/pandas_datareader/yahoo/daily.py:149\u001b[0m, in \u001b[0;36mYahooDailyReader._read_one_data\u001b[0;34m(self, url, params)\u001b[0m\n\u001b[1;32m    146\u001b[0m \u001b[38;5;28;01mdel\u001b[39;00m params[\u001b[38;5;124m\"\u001b[39m\u001b[38;5;124msymbol\u001b[39m\u001b[38;5;124m\"\u001b[39m]\n\u001b[1;32m    147\u001b[0m url \u001b[38;5;241m=\u001b[39m url\u001b[38;5;241m.\u001b[39mformat(symbol)\n\u001b[0;32m--> 149\u001b[0m resp \u001b[38;5;241m=\u001b[39m \u001b[38;5;28mself\u001b[39m\u001b[38;5;241m.\u001b[39m_get_response(url, params\u001b[38;5;241m=\u001b[39mparams, headers\u001b[38;5;241m=\u001b[39m\u001b[38;5;28mself\u001b[39m\u001b[38;5;241m.\u001b[39mheaders)\n\u001b[1;32m    150\u001b[0m ptrn \u001b[38;5;241m=\u001b[39m \u001b[38;5;124mr\u001b[39m\u001b[38;5;124m\"\u001b[39m\u001b[38;5;124mroot\u001b[39m\u001b[38;5;124m\\\u001b[39m\u001b[38;5;124m.App\u001b[39m\u001b[38;5;124m\\\u001b[39m\u001b[38;5;124m.main = (.*?);\u001b[39m\u001b[38;5;124m\\\u001b[39m\u001b[38;5;124mn}\u001b[39m\u001b[38;5;124m\\\u001b[39m\u001b[38;5;124m(this\u001b[39m\u001b[38;5;124m\\\u001b[39m\u001b[38;5;124m)\u001b[39m\u001b[38;5;124m\\\u001b[39m\u001b[38;5;124m);\u001b[39m\u001b[38;5;124m\"\u001b[39m\n\u001b[1;32m    151\u001b[0m \u001b[38;5;28;01mtry\u001b[39;00m:\n",
      "File \u001b[0;32m/opt/anaconda3/lib/python3.12/site-packages/pandas_datareader/base.py:181\u001b[0m, in \u001b[0;36m_BaseReader._get_response\u001b[0;34m(self, url, params, headers)\u001b[0m\n\u001b[1;32m    178\u001b[0m \u001b[38;5;28;01mif\u001b[39;00m last_response_text:\n\u001b[1;32m    179\u001b[0m     msg \u001b[38;5;241m+\u001b[39m\u001b[38;5;241m=\u001b[39m \u001b[38;5;124m\"\u001b[39m\u001b[38;5;130;01m\\n\u001b[39;00m\u001b[38;5;124mResponse Text:\u001b[39m\u001b[38;5;130;01m\\n\u001b[39;00m\u001b[38;5;132;01m{0}\u001b[39;00m\u001b[38;5;124m\"\u001b[39m\u001b[38;5;241m.\u001b[39mformat(last_response_text)\n\u001b[0;32m--> 181\u001b[0m \u001b[38;5;28;01mraise\u001b[39;00m RemoteDataError(msg)\n",
      "\u001b[0;31mRemoteDataError\u001b[0m: Unable to read URL: https://finance.yahoo.com/quote/TSLA/history?period1=1593037800&period2=1750804199&interval=1d&frequency=1d&filter=history\nResponse Text:\nb'<html><meta charset=\\'utf-8\\'>\\n<script>\\nif(window != window.top){\\ndocument.write(\\'<p>Content is currently unavailable.</p><img src=\"//geo.yahoo.com/p?s=1197757039&t=\\'\\n    + new Date().getTime() + \\'&_R=\\'\\n    + encodeURIComponent(document.referrer)\\n    + \\'&err=404\\'\\n    + \\'\" width=\"0px\" height=\"0px\"/>\\');\\n}else{\\nwindow.location.replace(\\'https://\\' + window.location.host + \\'/?err=404\\');\\n}\\n</script>\\n<noscript>\\n<META http-equiv=\"refresh\" content=\"0;URL=https://finance.yahoo.com/?err=404\">\\n</noscript></html>'"
     ]
    }
   ],
   "source": [
    "pdr.get_data_yahoo('TSLA')"
   ]
  },
  {
   "cell_type": "code",
   "execution_count": 4,
   "id": "5de15c6e-a043-43d9-854b-a6adf4690274",
   "metadata": {},
   "outputs": [
    {
     "name": "stdout",
     "output_type": "stream",
     "text": [
      "Requirement already satisfied: yfinance in /opt/anaconda3/lib/python3.12/site-packages (0.2.63)\n",
      "Requirement already satisfied: pandas>=1.3.0 in /opt/anaconda3/lib/python3.12/site-packages (from yfinance) (2.2.2)\n",
      "Requirement already satisfied: numpy>=1.16.5 in /opt/anaconda3/lib/python3.12/site-packages (from yfinance) (1.26.4)\n",
      "Requirement already satisfied: requests>=2.31 in /opt/anaconda3/lib/python3.12/site-packages (from yfinance) (2.32.3)\n",
      "Requirement already satisfied: multitasking>=0.0.7 in /opt/anaconda3/lib/python3.12/site-packages (from yfinance) (0.0.11)\n",
      "Requirement already satisfied: platformdirs>=2.0.0 in /opt/anaconda3/lib/python3.12/site-packages (from yfinance) (3.10.0)\n",
      "Requirement already satisfied: pytz>=2022.5 in /opt/anaconda3/lib/python3.12/site-packages (from yfinance) (2024.1)\n",
      "Requirement already satisfied: frozendict>=2.3.4 in /opt/anaconda3/lib/python3.12/site-packages (from yfinance) (2.4.2)\n",
      "Requirement already satisfied: peewee>=3.16.2 in /opt/anaconda3/lib/python3.12/site-packages (from yfinance) (3.18.1)\n",
      "Requirement already satisfied: beautifulsoup4>=4.11.1 in /opt/anaconda3/lib/python3.12/site-packages (from yfinance) (4.12.3)\n",
      "Requirement already satisfied: curl_cffi>=0.7 in /opt/anaconda3/lib/python3.12/site-packages (from yfinance) (0.11.4)\n",
      "Requirement already satisfied: protobuf>=3.19.0 in /opt/anaconda3/lib/python3.12/site-packages (from yfinance) (4.25.3)\n",
      "Requirement already satisfied: websockets>=13.0 in /opt/anaconda3/lib/python3.12/site-packages (from yfinance) (15.0.1)\n",
      "Requirement already satisfied: soupsieve>1.2 in /opt/anaconda3/lib/python3.12/site-packages (from beautifulsoup4>=4.11.1->yfinance) (2.5)\n",
      "Requirement already satisfied: cffi>=1.12.0 in /opt/anaconda3/lib/python3.12/site-packages (from curl_cffi>=0.7->yfinance) (1.17.1)\n",
      "Requirement already satisfied: certifi>=2024.2.2 in /opt/anaconda3/lib/python3.12/site-packages (from curl_cffi>=0.7->yfinance) (2025.4.26)\n",
      "Requirement already satisfied: python-dateutil>=2.8.2 in /opt/anaconda3/lib/python3.12/site-packages (from pandas>=1.3.0->yfinance) (2.9.0.post0)\n",
      "Requirement already satisfied: tzdata>=2022.7 in /opt/anaconda3/lib/python3.12/site-packages (from pandas>=1.3.0->yfinance) (2023.3)\n",
      "Requirement already satisfied: charset-normalizer<4,>=2 in /opt/anaconda3/lib/python3.12/site-packages (from requests>=2.31->yfinance) (3.3.2)\n",
      "Requirement already satisfied: idna<4,>=2.5 in /opt/anaconda3/lib/python3.12/site-packages (from requests>=2.31->yfinance) (3.7)\n",
      "Requirement already satisfied: urllib3<3,>=1.21.1 in /opt/anaconda3/lib/python3.12/site-packages (from requests>=2.31->yfinance) (2.2.3)\n",
      "Requirement already satisfied: pycparser in /opt/anaconda3/lib/python3.12/site-packages (from cffi>=1.12.0->curl_cffi>=0.7->yfinance) (2.21)\n",
      "Requirement already satisfied: six>=1.5 in /opt/anaconda3/lib/python3.12/site-packages (from python-dateutil>=2.8.2->pandas>=1.3.0->yfinance) (1.16.0)\n",
      "Note: you may need to restart the kernel to use updated packages.\n"
     ]
    }
   ],
   "source": [
    "pip install yfinance --upgrade\n"
   ]
  },
  {
   "cell_type": "code",
   "execution_count": 5,
   "id": "d1b76a27-cda2-4b2a-b1a8-59fdaace2d48",
   "metadata": {},
   "outputs": [
    {
     "name": "stderr",
     "output_type": "stream",
     "text": [
      "/var/folders/xz/lx2l1x_95yz90sbk5y2p_79h0000gn/T/ipykernel_19244/4233912041.py:4: FutureWarning: YF.download() has changed argument auto_adjust default to True\n",
      "  df_tesla = yf.download('TSLA')\n",
      "[*********************100%***********************]  1 of 1 completed\n"
     ]
    }
   ],
   "source": [
    "import yfinance as yf\n",
    "\n",
    "# Download historical data for TSLA\n",
    "df_tesla = yf.download('TSLA')\n"
   ]
  },
  {
   "cell_type": "code",
   "execution_count": 6,
   "id": "eb73f407-5dba-4a86-9274-00503b657364",
   "metadata": {},
   "outputs": [
    {
     "data": {
      "text/html": [
       "<div>\n",
       "<style scoped>\n",
       "    .dataframe tbody tr th:only-of-type {\n",
       "        vertical-align: middle;\n",
       "    }\n",
       "\n",
       "    .dataframe tbody tr th {\n",
       "        vertical-align: top;\n",
       "    }\n",
       "\n",
       "    .dataframe thead tr th {\n",
       "        text-align: left;\n",
       "    }\n",
       "\n",
       "    .dataframe thead tr:last-of-type th {\n",
       "        text-align: right;\n",
       "    }\n",
       "</style>\n",
       "<table border=\"1\" class=\"dataframe\">\n",
       "  <thead>\n",
       "    <tr>\n",
       "      <th>Price</th>\n",
       "      <th>Close</th>\n",
       "      <th>High</th>\n",
       "      <th>Low</th>\n",
       "      <th>Open</th>\n",
       "      <th>Volume</th>\n",
       "    </tr>\n",
       "    <tr>\n",
       "      <th>Ticker</th>\n",
       "      <th>TSLA</th>\n",
       "      <th>TSLA</th>\n",
       "      <th>TSLA</th>\n",
       "      <th>TSLA</th>\n",
       "      <th>TSLA</th>\n",
       "    </tr>\n",
       "    <tr>\n",
       "      <th>Date</th>\n",
       "      <th></th>\n",
       "      <th></th>\n",
       "      <th></th>\n",
       "      <th></th>\n",
       "      <th></th>\n",
       "    </tr>\n",
       "  </thead>\n",
       "  <tbody>\n",
       "    <tr>\n",
       "      <th>2010-06-29</th>\n",
       "      <td>1.592667</td>\n",
       "      <td>1.666667</td>\n",
       "      <td>1.169333</td>\n",
       "      <td>1.266667</td>\n",
       "      <td>281494500</td>\n",
       "    </tr>\n",
       "    <tr>\n",
       "      <th>2010-06-30</th>\n",
       "      <td>1.588667</td>\n",
       "      <td>2.028000</td>\n",
       "      <td>1.553333</td>\n",
       "      <td>1.719333</td>\n",
       "      <td>257806500</td>\n",
       "    </tr>\n",
       "    <tr>\n",
       "      <th>2010-07-01</th>\n",
       "      <td>1.464000</td>\n",
       "      <td>1.728000</td>\n",
       "      <td>1.351333</td>\n",
       "      <td>1.666667</td>\n",
       "      <td>123282000</td>\n",
       "    </tr>\n",
       "    <tr>\n",
       "      <th>2010-07-02</th>\n",
       "      <td>1.280000</td>\n",
       "      <td>1.540000</td>\n",
       "      <td>1.247333</td>\n",
       "      <td>1.533333</td>\n",
       "      <td>77097000</td>\n",
       "    </tr>\n",
       "    <tr>\n",
       "      <th>2010-07-06</th>\n",
       "      <td>1.074000</td>\n",
       "      <td>1.333333</td>\n",
       "      <td>1.055333</td>\n",
       "      <td>1.333333</td>\n",
       "      <td>103003500</td>\n",
       "    </tr>\n",
       "    <tr>\n",
       "      <th>...</th>\n",
       "      <td>...</td>\n",
       "      <td>...</td>\n",
       "      <td>...</td>\n",
       "      <td>...</td>\n",
       "      <td>...</td>\n",
       "    </tr>\n",
       "    <tr>\n",
       "      <th>2025-06-16</th>\n",
       "      <td>329.130005</td>\n",
       "      <td>332.049988</td>\n",
       "      <td>326.410004</td>\n",
       "      <td>331.290009</td>\n",
       "      <td>83925900</td>\n",
       "    </tr>\n",
       "    <tr>\n",
       "      <th>2025-06-17</th>\n",
       "      <td>316.350006</td>\n",
       "      <td>327.260010</td>\n",
       "      <td>314.739990</td>\n",
       "      <td>326.089996</td>\n",
       "      <td>88282700</td>\n",
       "    </tr>\n",
       "    <tr>\n",
       "      <th>2025-06-18</th>\n",
       "      <td>322.049988</td>\n",
       "      <td>329.320007</td>\n",
       "      <td>315.450012</td>\n",
       "      <td>317.309998</td>\n",
       "      <td>95137700</td>\n",
       "    </tr>\n",
       "    <tr>\n",
       "      <th>2025-06-20</th>\n",
       "      <td>322.160004</td>\n",
       "      <td>332.359985</td>\n",
       "      <td>317.779999</td>\n",
       "      <td>327.950012</td>\n",
       "      <td>108688000</td>\n",
       "    </tr>\n",
       "    <tr>\n",
       "      <th>2025-06-23</th>\n",
       "      <td>348.679993</td>\n",
       "      <td>357.540009</td>\n",
       "      <td>327.480011</td>\n",
       "      <td>327.540009</td>\n",
       "      <td>188609800</td>\n",
       "    </tr>\n",
       "  </tbody>\n",
       "</table>\n",
       "<p>3769 rows × 5 columns</p>\n",
       "</div>"
      ],
      "text/plain": [
       "Price            Close        High         Low        Open     Volume\n",
       "Ticker            TSLA        TSLA        TSLA        TSLA       TSLA\n",
       "Date                                                                 \n",
       "2010-06-29    1.592667    1.666667    1.169333    1.266667  281494500\n",
       "2010-06-30    1.588667    2.028000    1.553333    1.719333  257806500\n",
       "2010-07-01    1.464000    1.728000    1.351333    1.666667  123282000\n",
       "2010-07-02    1.280000    1.540000    1.247333    1.533333   77097000\n",
       "2010-07-06    1.074000    1.333333    1.055333    1.333333  103003500\n",
       "...                ...         ...         ...         ...        ...\n",
       "2025-06-16  329.130005  332.049988  326.410004  331.290009   83925900\n",
       "2025-06-17  316.350006  327.260010  314.739990  326.089996   88282700\n",
       "2025-06-18  322.049988  329.320007  315.450012  317.309998   95137700\n",
       "2025-06-20  322.160004  332.359985  317.779999  327.950012  108688000\n",
       "2025-06-23  348.679993  357.540009  327.480011  327.540009  188609800\n",
       "\n",
       "[3769 rows x 5 columns]"
      ]
     },
     "execution_count": 6,
     "metadata": {},
     "output_type": "execute_result"
    }
   ],
   "source": [
    "df_tesla"
   ]
  },
  {
   "cell_type": "code",
   "execution_count": 7,
   "id": "c8cedef3-292d-49c6-b676-dd0d01018652",
   "metadata": {},
   "outputs": [
    {
     "data": {
      "text/html": [
       "<div>\n",
       "<style scoped>\n",
       "    .dataframe tbody tr th:only-of-type {\n",
       "        vertical-align: middle;\n",
       "    }\n",
       "\n",
       "    .dataframe tbody tr th {\n",
       "        vertical-align: top;\n",
       "    }\n",
       "\n",
       "    .dataframe thead tr th {\n",
       "        text-align: left;\n",
       "    }\n",
       "\n",
       "    .dataframe thead tr:last-of-type th {\n",
       "        text-align: right;\n",
       "    }\n",
       "</style>\n",
       "<table border=\"1\" class=\"dataframe\">\n",
       "  <thead>\n",
       "    <tr>\n",
       "      <th>Price</th>\n",
       "      <th>Close</th>\n",
       "      <th>High</th>\n",
       "      <th>Low</th>\n",
       "      <th>Open</th>\n",
       "      <th>Volume</th>\n",
       "    </tr>\n",
       "    <tr>\n",
       "      <th>Ticker</th>\n",
       "      <th>TSLA</th>\n",
       "      <th>TSLA</th>\n",
       "      <th>TSLA</th>\n",
       "      <th>TSLA</th>\n",
       "      <th>TSLA</th>\n",
       "    </tr>\n",
       "    <tr>\n",
       "      <th>Date</th>\n",
       "      <th></th>\n",
       "      <th></th>\n",
       "      <th></th>\n",
       "      <th></th>\n",
       "      <th></th>\n",
       "    </tr>\n",
       "  </thead>\n",
       "  <tbody>\n",
       "    <tr>\n",
       "      <th>2025-06-16</th>\n",
       "      <td>329.130005</td>\n",
       "      <td>332.049988</td>\n",
       "      <td>326.410004</td>\n",
       "      <td>331.290009</td>\n",
       "      <td>83925900</td>\n",
       "    </tr>\n",
       "    <tr>\n",
       "      <th>2025-06-17</th>\n",
       "      <td>316.350006</td>\n",
       "      <td>327.260010</td>\n",
       "      <td>314.739990</td>\n",
       "      <td>326.089996</td>\n",
       "      <td>88282700</td>\n",
       "    </tr>\n",
       "    <tr>\n",
       "      <th>2025-06-18</th>\n",
       "      <td>322.049988</td>\n",
       "      <td>329.320007</td>\n",
       "      <td>315.450012</td>\n",
       "      <td>317.309998</td>\n",
       "      <td>95137700</td>\n",
       "    </tr>\n",
       "    <tr>\n",
       "      <th>2025-06-20</th>\n",
       "      <td>322.160004</td>\n",
       "      <td>332.359985</td>\n",
       "      <td>317.779999</td>\n",
       "      <td>327.950012</td>\n",
       "      <td>108688000</td>\n",
       "    </tr>\n",
       "    <tr>\n",
       "      <th>2025-06-23</th>\n",
       "      <td>348.679993</td>\n",
       "      <td>357.540009</td>\n",
       "      <td>327.480011</td>\n",
       "      <td>327.540009</td>\n",
       "      <td>188609800</td>\n",
       "    </tr>\n",
       "  </tbody>\n",
       "</table>\n",
       "</div>"
      ],
      "text/plain": [
       "Price            Close        High         Low        Open     Volume\n",
       "Ticker            TSLA        TSLA        TSLA        TSLA       TSLA\n",
       "Date                                                                 \n",
       "2025-06-16  329.130005  332.049988  326.410004  331.290009   83925900\n",
       "2025-06-17  316.350006  327.260010  314.739990  326.089996   88282700\n",
       "2025-06-18  322.049988  329.320007  315.450012  317.309998   95137700\n",
       "2025-06-20  322.160004  332.359985  317.779999  327.950012  108688000\n",
       "2025-06-23  348.679993  357.540009  327.480011  327.540009  188609800"
      ]
     },
     "execution_count": 7,
     "metadata": {},
     "output_type": "execute_result"
    }
   ],
   "source": [
    "df_tesla.tail()"
   ]
  },
  {
   "cell_type": "code",
   "execution_count": 8,
   "id": "da492523-f11a-4d74-bdd0-ccee09a70206",
   "metadata": {},
   "outputs": [
    {
     "data": {
      "text/plain": [
       "<Axes: xlabel='Date'>"
      ]
     },
     "execution_count": 8,
     "metadata": {},
     "output_type": "execute_result"
    },
    {
     "data": {
      "image/png": "[encoded data removed]",
      "text/plain": [
       "<Figure size 1200x400 with 1 Axes>"
      ]
     },
     "metadata": {},
     "output_type": "display_data"
    }
   ],
   "source": [
    "df_tesla['High'].plot(figsize=(12,4))"
   ]
  },
  {
   "cell_type": "code",
   "execution_count": 9,
   "id": "6770829e-6b2a-494c-98d4-5066f35cc0f9",
   "metadata": {},
   "outputs": [
    {
     "data": {
      "text/plain": [
       "<Axes: xlabel='Date'>"
      ]
     },
     "execution_count": 9,
     "metadata": {},
     "output_type": "execute_result"
    },
    {
     "data": {
      "image/png": "[encoded data removed]",
      "text/plain": [
       "<Figure size 1200x400 with 1 Axes>"
      ]
     },
     "metadata": {},
     "output_type": "display_data"
    }
   ],
   "source": [
    "###xlimit and ylimit\n",
    "df_tesla['High'].plot(xlim=['2020-01-01','2021-09-01'],figsize=(12,4))"
   ]
  },
  {
   "cell_type": "code",
   "execution_count": 10,
   "id": "628b7f3a-6c6d-43da-9c0a-166d9314cdfc",
   "metadata": {},
   "outputs": [
    {
     "data": {
      "text/plain": [
       "<Axes: xlabel='Date'>"
      ]
     },
     "execution_count": 10,
     "metadata": {},
     "output_type": "execute_result"
    },
    {
     "data": {
      "image/png": "[encoded data removed]",
      "text/plain": [
       "<Figure size 1200x400 with 1 Axes>"
      ]
     },
     "metadata": {},
     "output_type": "display_data"
    }
   ],
   "source": [
    "###xlimit and ylimit and coloring\n",
    "df_tesla['High'].plot(xlim=['2020-01-01','2021-09-01'],ylim=[0,300],figsize=(12,4),c='green')"
   ]
  },
  {
   "cell_type": "code",
   "execution_count": 11,
   "id": "014864dc-ee7f-43c8-80cf-f679eba48b41",
   "metadata": {},
   "outputs": [
    {
     "data": {
      "text/plain": [
       "DatetimeIndex(['2010-06-29', '2010-06-30', '2010-07-01', '2010-07-02',\n",
       "               '2010-07-06', '2010-07-07', '2010-07-08', '2010-07-09',\n",
       "               '2010-07-12', '2010-07-13',\n",
       "               ...\n",
       "               '2025-06-09', '2025-06-10', '2025-06-11', '2025-06-12',\n",
       "               '2025-06-13', '2025-06-16', '2025-06-17', '2025-06-18',\n",
       "               '2025-06-20', '2025-06-23'],\n",
       "              dtype='datetime64[ns]', name='Date', length=3769, freq=None)"
      ]
     },
     "execution_count": 11,
     "metadata": {},
     "output_type": "execute_result"
    }
   ],
   "source": [
    "df_tesla.index"
   ]
  },
  {
   "cell_type": "code",
   "execution_count": 12,
   "id": "dc9174b6-2cf9-465b-bdfa-be257a246427",
   "metadata": {},
   "outputs": [],
   "source": [
    "index=df_tesla.loc['2020-01-01':'2021-09-01'].index\n",
    "share_open=df_tesla.loc['2020-01-01':'2021-09-01']['Open']"
   ]
  },
  {
   "cell_type": "code",
   "execution_count": 13,
   "id": "8f391e41-3578-4310-a2a2-ce88c5989257",
   "metadata": {},
   "outputs": [
    {
     "data": {
      "text/html": [
       "<div>\n",
       "<style scoped>\n",
       "    .dataframe tbody tr th:only-of-type {\n",
       "        vertical-align: middle;\n",
       "    }\n",
       "\n",
       "    .dataframe tbody tr th {\n",
       "        vertical-align: top;\n",
       "    }\n",
       "\n",
       "    .dataframe thead th {\n",
       "        text-align: right;\n",
       "    }\n",
       "</style>\n",
       "<table border=\"1\" class=\"dataframe\">\n",
       "  <thead>\n",
       "    <tr style=\"text-align: right;\">\n",
       "      <th>Ticker</th>\n",
       "      <th>TSLA</th>\n",
       "    </tr>\n",
       "    <tr>\n",
       "      <th>Date</th>\n",
       "      <th></th>\n",
       "    </tr>\n",
       "  </thead>\n",
       "  <tbody>\n",
       "    <tr>\n",
       "      <th>2020-01-02</th>\n",
       "      <td>28.299999</td>\n",
       "    </tr>\n",
       "    <tr>\n",
       "      <th>2020-01-03</th>\n",
       "      <td>29.366667</td>\n",
       "    </tr>\n",
       "    <tr>\n",
       "      <th>2020-01-06</th>\n",
       "      <td>29.364668</td>\n",
       "    </tr>\n",
       "    <tr>\n",
       "      <th>2020-01-07</th>\n",
       "      <td>30.760000</td>\n",
       "    </tr>\n",
       "    <tr>\n",
       "      <th>2020-01-08</th>\n",
       "      <td>31.580000</td>\n",
       "    </tr>\n",
       "    <tr>\n",
       "      <th>...</th>\n",
       "      <td>...</td>\n",
       "    </tr>\n",
       "    <tr>\n",
       "      <th>2021-08-26</th>\n",
       "      <td>236.103333</td>\n",
       "    </tr>\n",
       "    <tr>\n",
       "      <th>2021-08-27</th>\n",
       "      <td>235.000000</td>\n",
       "    </tr>\n",
       "    <tr>\n",
       "      <th>2021-08-30</th>\n",
       "      <td>238.240005</td>\n",
       "    </tr>\n",
       "    <tr>\n",
       "      <th>2021-08-31</th>\n",
       "      <td>244.333328</td>\n",
       "    </tr>\n",
       "    <tr>\n",
       "      <th>2021-09-01</th>\n",
       "      <td>244.693329</td>\n",
       "    </tr>\n",
       "  </tbody>\n",
       "</table>\n",
       "<p>421 rows × 1 columns</p>\n",
       "</div>"
      ],
      "text/plain": [
       "Ticker            TSLA\n",
       "Date                  \n",
       "2020-01-02   28.299999\n",
       "2020-01-03   29.366667\n",
       "2020-01-06   29.364668\n",
       "2020-01-07   30.760000\n",
       "2020-01-08   31.580000\n",
       "...                ...\n",
       "2021-08-26  236.103333\n",
       "2021-08-27  235.000000\n",
       "2021-08-30  238.240005\n",
       "2021-08-31  244.333328\n",
       "2021-09-01  244.693329\n",
       "\n",
       "[421 rows x 1 columns]"
      ]
     },
     "execution_count": 13,
     "metadata": {},
     "output_type": "execute_result"
    }
   ],
   "source": [
    "share_open"
   ]
  },
  {
   "cell_type": "code",
   "execution_count": 14,
   "id": "5c0164a3-21c4-4927-8886-016d9b97172e",
   "metadata": {},
   "outputs": [
    {
     "data": {
      "text/plain": [
       "DatetimeIndex(['2020-01-02', '2020-01-03', '2020-01-06', '2020-01-07',\n",
       "               '2020-01-08', '2020-01-09', '2020-01-10', '2020-01-13',\n",
       "               '2020-01-14', '2020-01-15',\n",
       "               ...\n",
       "               '2021-08-19', '2021-08-20', '2021-08-23', '2021-08-24',\n",
       "               '2021-08-25', '2021-08-26', '2021-08-27', '2021-08-30',\n",
       "               '2021-08-31', '2021-09-01'],\n",
       "              dtype='datetime64[ns]', name='Date', length=421, freq=None)"
      ]
     },
     "execution_count": 14,
     "metadata": {},
     "output_type": "execute_result"
    }
   ],
   "source": [
    "index"
   ]
  },
  {
   "cell_type": "code",
   "execution_count": 16,
   "id": "a5991973-a908-4633-8d05-38342c01df3a",
   "metadata": {},
   "outputs": [],
   "source": [
    "import matplotlib.pyplot as plt\n",
    "%matplotlib inline"
   ]
  },
  {
   "cell_type": "code",
   "execution_count": 24,
   "id": "bfbc6436-72d5-4cb1-b0cb-d3feb0f43680",
   "metadata": {},
   "outputs": [
    {
     "data": {
      "text/plain": [
       "[<matplotlib.lines.Line2D at 0x144e21c10>]"
      ]
     },
     "execution_count": 24,
     "metadata": {},
     "output_type": "execute_result"
    }
   ],
   "source": [
    "figure,axis=plt.subplots()\n",
    "plt.tight_layout()\n",
    "figure.autofmt_xdate() \n",
    "##preventing overwriting\n",
    "axis.plot(index,share_open)"
   ]
  },
  {
   "cell_type": "code",
   "execution_count": 25,
   "id": "774c96e4-f945-4bc0-b19e-99a2dc259d2f",
   "metadata": {},
   "outputs": [
    {
     "data": {
      "image/png": "[encoded data removed]",
      "text/plain": [
       "<Figure size 640x480 with 1 Axes>"
      ]
     },
     "metadata": {},
     "output_type": "display_data"
    }
   ],
   "source": [
    "plt.show()"
   ]
  },
  {
   "cell_type": "code",
   "execution_count": 26,
   "id": "0d3c56f3-f7da-4a5c-be5b-1108892327e6",
   "metadata": {},
   "outputs": [],
   "source": [
    " ##Datetime index"
   ]
  },
  {
   "cell_type": "code",
   "execution_count": 31,
   "id": "1103d114-37e9-4844-961f-a4877fa9e638",
   "metadata": {},
   "outputs": [],
   "source": [
    "df_tesla=df_tesla.reset_index()"
   ]
  },
  {
   "cell_type": "code",
   "execution_count": 32,
   "id": "9932b3a3-9908-4ee1-a127-a55252f859db",
   "metadata": {},
   "outputs": [
    {
     "name": "stdout",
     "output_type": "stream",
     "text": [
      "<class 'pandas.core.frame.DataFrame'>\n",
      "RangeIndex: 3769 entries, 0 to 3768\n",
      "Data columns (total 6 columns):\n",
      " #   Column          Non-Null Count  Dtype         \n",
      "---  ------          --------------  -----         \n",
      " 0   (Date, )        3769 non-null   datetime64[ns]\n",
      " 1   (Close, TSLA)   3769 non-null   float64       \n",
      " 2   (High, TSLA)    3769 non-null   float64       \n",
      " 3   (Low, TSLA)     3769 non-null   float64       \n",
      " 4   (Open, TSLA)    3769 non-null   float64       \n",
      " 5   (Volume, TSLA)  3769 non-null   int64         \n",
      "dtypes: datetime64[ns](1), float64(4), int64(1)\n",
      "memory usage: 176.8 KB\n"
     ]
    }
   ],
   "source": [
    "df_tesla.info()"
   ]
  },
  {
   "cell_type": "code",
   "execution_count": 33,
   "id": "284baae6-468a-4161-885f-8adb1061b387",
   "metadata": {},
   "outputs": [
    {
     "data": {
      "text/plain": [
       "0      2010-06-29\n",
       "1      2010-06-30\n",
       "2      2010-07-01\n",
       "3      2010-07-02\n",
       "4      2010-07-06\n",
       "          ...    \n",
       "3764   2025-06-16\n",
       "3765   2025-06-17\n",
       "3766   2025-06-18\n",
       "3767   2025-06-20\n",
       "3768   2025-06-23\n",
       "Name: Date, Length: 3769, dtype: datetime64[ns]"
      ]
     },
     "execution_count": 33,
     "metadata": {},
     "output_type": "execute_result"
    }
   ],
   "source": [
    "pd.to_datetime(df_tesla['Date'])"
   ]
  },
  {
   "cell_type": "code",
   "execution_count": 38,
   "id": "e8d06875-1d55-4cf3-8a27-a9fc470df27f",
   "metadata": {},
   "outputs": [],
   "source": [
    "df_tesla=df_tesla.set_index('Date', drop=True)"
   ]
  },
  {
   "cell_type": "code",
   "execution_count": 39,
   "id": "9fafb262-8681-412b-8c11-7e5d04278093",
   "metadata": {},
   "outputs": [
    {
     "data": {
      "text/html": [
       "<div>\n",
       "<style scoped>\n",
       "    .dataframe tbody tr th:only-of-type {\n",
       "        vertical-align: middle;\n",
       "    }\n",
       "\n",
       "    .dataframe tbody tr th {\n",
       "        vertical-align: top;\n",
       "    }\n",
       "\n",
       "    .dataframe thead tr th {\n",
       "        text-align: left;\n",
       "    }\n",
       "\n",
       "    .dataframe thead tr:last-of-type th {\n",
       "        text-align: right;\n",
       "    }\n",
       "</style>\n",
       "<table border=\"1\" class=\"dataframe\">\n",
       "  <thead>\n",
       "    <tr>\n",
       "      <th>Price</th>\n",
       "      <th>Close</th>\n",
       "      <th>High</th>\n",
       "      <th>Low</th>\n",
       "      <th>Open</th>\n",
       "      <th>Volume</th>\n",
       "    </tr>\n",
       "    <tr>\n",
       "      <th>Ticker</th>\n",
       "      <th>TSLA</th>\n",
       "      <th>TSLA</th>\n",
       "      <th>TSLA</th>\n",
       "      <th>TSLA</th>\n",
       "      <th>TSLA</th>\n",
       "    </tr>\n",
       "    <tr>\n",
       "      <th>Date</th>\n",
       "      <th></th>\n",
       "      <th></th>\n",
       "      <th></th>\n",
       "      <th></th>\n",
       "      <th></th>\n",
       "    </tr>\n",
       "  </thead>\n",
       "  <tbody>\n",
       "    <tr>\n",
       "      <th>2010-06-29</th>\n",
       "      <td>1.592667</td>\n",
       "      <td>1.666667</td>\n",
       "      <td>1.169333</td>\n",
       "      <td>1.266667</td>\n",
       "      <td>281494500</td>\n",
       "    </tr>\n",
       "    <tr>\n",
       "      <th>2010-06-30</th>\n",
       "      <td>1.588667</td>\n",
       "      <td>2.028000</td>\n",
       "      <td>1.553333</td>\n",
       "      <td>1.719333</td>\n",
       "      <td>257806500</td>\n",
       "    </tr>\n",
       "    <tr>\n",
       "      <th>2010-07-01</th>\n",
       "      <td>1.464000</td>\n",
       "      <td>1.728000</td>\n",
       "      <td>1.351333</td>\n",
       "      <td>1.666667</td>\n",
       "      <td>123282000</td>\n",
       "    </tr>\n",
       "    <tr>\n",
       "      <th>2010-07-02</th>\n",
       "      <td>1.280000</td>\n",
       "      <td>1.540000</td>\n",
       "      <td>1.247333</td>\n",
       "      <td>1.533333</td>\n",
       "      <td>77097000</td>\n",
       "    </tr>\n",
       "    <tr>\n",
       "      <th>2010-07-06</th>\n",
       "      <td>1.074000</td>\n",
       "      <td>1.333333</td>\n",
       "      <td>1.055333</td>\n",
       "      <td>1.333333</td>\n",
       "      <td>103003500</td>\n",
       "    </tr>\n",
       "  </tbody>\n",
       "</table>\n",
       "</div>"
      ],
      "text/plain": [
       "Price          Close      High       Low      Open     Volume\n",
       "Ticker          TSLA      TSLA      TSLA      TSLA       TSLA\n",
       "Date                                                         \n",
       "2010-06-29  1.592667  1.666667  1.169333  1.266667  281494500\n",
       "2010-06-30  1.588667  2.028000  1.553333  1.719333  257806500\n",
       "2010-07-01  1.464000  1.728000  1.351333  1.666667  123282000\n",
       "2010-07-02  1.280000  1.540000  1.247333  1.533333   77097000\n",
       "2010-07-06  1.074000  1.333333  1.055333  1.333333  103003500"
      ]
     },
     "execution_count": 39,
     "metadata": {},
     "output_type": "execute_result"
    }
   ],
   "source": [
    "df_tesla.head()"
   ]
  },
  {
   "cell_type": "code",
   "execution_count": 40,
   "id": "5873d851-8834-4b3d-8e52-89c0b5d813d5",
   "metadata": {},
   "outputs": [],
   "source": [
    "#datetime\n",
    "from datetime import datetime"
   ]
  },
  {
   "cell_type": "code",
   "execution_count": 41,
   "id": "184505ca-d90c-4687-8af8-7139a5abc43a",
   "metadata": {},
   "outputs": [
    {
     "data": {
      "text/plain": [
       "datetime.datetime(2021, 11, 21, 0, 0)"
      ]
     },
     "execution_count": 41,
     "metadata": {},
     "output_type": "execute_result"
    }
   ],
   "source": [
    "datetime(2021,11,21)"
   ]
  },
  {
   "cell_type": "code",
   "execution_count": 44,
   "id": "0caec706-06a9-4f06-b6c4-e5332aff24bd",
   "metadata": {},
   "outputs": [
    {
     "data": {
      "text/plain": [
       "datetime.datetime(2025, 6, 24, 23, 13, 42, 274884)"
      ]
     },
     "execution_count": 44,
     "metadata": {},
     "output_type": "execute_result"
    }
   ],
   "source": [
    "datetime.now()"
   ]
  },
  {
   "cell_type": "code",
   "execution_count": 45,
   "id": "3dbdf80e-bd79-42d5-a143-14ccf6e93667",
   "metadata": {},
   "outputs": [],
   "source": [
    "def add_num(num1,num2):\n",
    "    return num1+num2"
   ]
  },
  {
   "cell_type": "code",
   "execution_count": 48,
   "id": "df1e147d-1cca-4b8a-ab4a-f1de6b86ee91",
   "metadata": {},
   "outputs": [
    {
     "name": "stdout",
     "output_type": "stream",
     "text": [
      "0:00:00.000304\n"
     ]
    }
   ],
   "source": [
    "starttime=datetime.now()\n",
    "num1=20\n",
    "num2=30\n",
    "for i in [1,2,3,4,5]:\n",
    "    \n",
    "    add_num(num1,num2)\n",
    "endtime=datetime.now()\n",
    "print(endtime-starttime)"
   ]
  },
  {
   "cell_type": "code",
   "execution_count": 49,
   "id": "3f6bc937-d9fd-4505-b397-3ece773fe89b",
   "metadata": {},
   "outputs": [],
   "source": [
    "date=datetime(2021,11,21)"
   ]
  },
  {
   "cell_type": "code",
   "execution_count": 50,
   "id": "9485dcd2-45d0-4a2d-b382-9af00c4c22e4",
   "metadata": {},
   "outputs": [
    {
     "data": {
      "text/plain": [
       "datetime.datetime(2021, 11, 21, 0, 0)"
      ]
     },
     "execution_count": 50,
     "metadata": {},
     "output_type": "execute_result"
    }
   ],
   "source": [
    "date"
   ]
  },
  {
   "cell_type": "code",
   "execution_count": 51,
   "id": "e3d5c5ed-7eb1-487d-b9fe-a5a074516979",
   "metadata": {},
   "outputs": [
    {
     "data": {
      "text/plain": [
       "datetime.date(2021, 11, 21)"
      ]
     },
     "execution_count": 51,
     "metadata": {},
     "output_type": "execute_result"
    }
   ],
   "source": [
    "date.date()"
   ]
  },
  {
   "cell_type": "code",
   "execution_count": 53,
   "id": "8df967b2-6258-4ad0-87e6-4374a8548d11",
   "metadata": {},
   "outputs": [
    {
     "data": {
      "text/plain": [
       "21"
      ]
     },
     "execution_count": 53,
     "metadata": {},
     "output_type": "execute_result"
    }
   ],
   "source": [
    "date.day"
   ]
  },
  {
   "cell_type": "code",
   "execution_count": 54,
   "id": "0550b5c0-0f3c-49da-8762-6d7f055237c7",
   "metadata": {},
   "outputs": [
    {
     "data": {
      "text/plain": [
       "6"
      ]
     },
     "execution_count": 54,
     "metadata": {},
     "output_type": "execute_result"
    }
   ],
   "source": [
    "date.weekday()"
   ]
  },
  {
   "cell_type": "code",
   "execution_count": 55,
   "id": "7bc5e4f1-bcc5-4ba6-a7b3-051903a63d46",
   "metadata": {},
   "outputs": [
    {
     "data": {
      "text/plain": [
       "2021"
      ]
     },
     "execution_count": 55,
     "metadata": {},
     "output_type": "execute_result"
    }
   ],
   "source": [
    "date.year"
   ]
  },
  {
   "cell_type": "code",
   "execution_count": 56,
   "id": "f086c8ff-6b84-41bd-847d-705361f371c9",
   "metadata": {},
   "outputs": [
    {
     "data": {
      "text/plain": [
       "11"
      ]
     },
     "execution_count": 56,
     "metadata": {},
     "output_type": "execute_result"
    }
   ],
   "source": [
    "date.month"
   ]
  },
  {
   "cell_type": "markdown",
   "id": "dc75aabb-1ca5-4ed3-b570-180e61813a87",
   "metadata": {},
   "source": [
    "# Time resampling"
   ]
  },
  {
   "cell_type": "code",
   "execution_count": 57,
   "id": "a75df613-3d3b-417e-ac31-b96397e81abd",
   "metadata": {},
   "outputs": [
    {
     "data": {
      "text/html": [
       "<div>\n",
       "<style scoped>\n",
       "    .dataframe tbody tr th:only-of-type {\n",
       "        vertical-align: middle;\n",
       "    }\n",
       "\n",
       "    .dataframe tbody tr th {\n",
       "        vertical-align: top;\n",
       "    }\n",
       "\n",
       "    .dataframe thead tr th {\n",
       "        text-align: left;\n",
       "    }\n",
       "\n",
       "    .dataframe thead tr:last-of-type th {\n",
       "        text-align: right;\n",
       "    }\n",
       "</style>\n",
       "<table border=\"1\" class=\"dataframe\">\n",
       "  <thead>\n",
       "    <tr>\n",
       "      <th>Price</th>\n",
       "      <th>Close</th>\n",
       "      <th>High</th>\n",
       "      <th>Low</th>\n",
       "      <th>Open</th>\n",
       "      <th>Volume</th>\n",
       "    </tr>\n",
       "    <tr>\n",
       "      <th>Ticker</th>\n",
       "      <th>TSLA</th>\n",
       "      <th>TSLA</th>\n",
       "      <th>TSLA</th>\n",
       "      <th>TSLA</th>\n",
       "      <th>TSLA</th>\n",
       "    </tr>\n",
       "    <tr>\n",
       "      <th>Date</th>\n",
       "      <th></th>\n",
       "      <th></th>\n",
       "      <th></th>\n",
       "      <th></th>\n",
       "      <th></th>\n",
       "    </tr>\n",
       "  </thead>\n",
       "  <tbody>\n",
       "    <tr>\n",
       "      <th>2010-06-29</th>\n",
       "      <td>1.592667</td>\n",
       "      <td>1.666667</td>\n",
       "      <td>1.169333</td>\n",
       "      <td>1.266667</td>\n",
       "      <td>281494500</td>\n",
       "    </tr>\n",
       "    <tr>\n",
       "      <th>2010-06-30</th>\n",
       "      <td>1.588667</td>\n",
       "      <td>2.028000</td>\n",
       "      <td>1.553333</td>\n",
       "      <td>1.719333</td>\n",
       "      <td>257806500</td>\n",
       "    </tr>\n",
       "    <tr>\n",
       "      <th>2010-07-01</th>\n",
       "      <td>1.464000</td>\n",
       "      <td>1.728000</td>\n",
       "      <td>1.351333</td>\n",
       "      <td>1.666667</td>\n",
       "      <td>123282000</td>\n",
       "    </tr>\n",
       "    <tr>\n",
       "      <th>2010-07-02</th>\n",
       "      <td>1.280000</td>\n",
       "      <td>1.540000</td>\n",
       "      <td>1.247333</td>\n",
       "      <td>1.533333</td>\n",
       "      <td>77097000</td>\n",
       "    </tr>\n",
       "    <tr>\n",
       "      <th>2010-07-06</th>\n",
       "      <td>1.074000</td>\n",
       "      <td>1.333333</td>\n",
       "      <td>1.055333</td>\n",
       "      <td>1.333333</td>\n",
       "      <td>103003500</td>\n",
       "    </tr>\n",
       "  </tbody>\n",
       "</table>\n",
       "</div>"
      ],
      "text/plain": [
       "Price          Close      High       Low      Open     Volume\n",
       "Ticker          TSLA      TSLA      TSLA      TSLA       TSLA\n",
       "Date                                                         \n",
       "2010-06-29  1.592667  1.666667  1.169333  1.266667  281494500\n",
       "2010-06-30  1.588667  2.028000  1.553333  1.719333  257806500\n",
       "2010-07-01  1.464000  1.728000  1.351333  1.666667  123282000\n",
       "2010-07-02  1.280000  1.540000  1.247333  1.533333   77097000\n",
       "2010-07-06  1.074000  1.333333  1.055333  1.333333  103003500"
      ]
     },
     "execution_count": 57,
     "metadata": {},
     "output_type": "execute_result"
    }
   ],
   "source": [
    "df_tesla.head()"
   ]
  },
  {
   "cell_type": "code",
   "execution_count": 67,
   "id": "d66a85c4-33b9-454c-96f1-79b0e6649090",
   "metadata": {},
   "outputs": [
    {
     "name": "stderr",
     "output_type": "stream",
     "text": [
      "/var/folders/xz/lx2l1x_95yz90sbk5y2p_79h0000gn/T/ipykernel_19244/1458369932.py:2: FutureWarning: 'A' is deprecated and will be removed in a future version, please use 'YE' instead.\n",
      "  df_tesla.resample(rule='A').min()\n"
     ]
    },
    {
     "data": {
      "text/html": [
       "<div>\n",
       "<style scoped>\n",
       "    .dataframe tbody tr th:only-of-type {\n",
       "        vertical-align: middle;\n",
       "    }\n",
       "\n",
       "    .dataframe tbody tr th {\n",
       "        vertical-align: top;\n",
       "    }\n",
       "\n",
       "    .dataframe thead tr th {\n",
       "        text-align: left;\n",
       "    }\n",
       "\n",
       "    .dataframe thead tr:last-of-type th {\n",
       "        text-align: right;\n",
       "    }\n",
       "</style>\n",
       "<table border=\"1\" class=\"dataframe\">\n",
       "  <thead>\n",
       "    <tr>\n",
       "      <th>Price</th>\n",
       "      <th>Close</th>\n",
       "      <th>High</th>\n",
       "      <th>Low</th>\n",
       "      <th>Open</th>\n",
       "      <th>Volume</th>\n",
       "    </tr>\n",
       "    <tr>\n",
       "      <th>Ticker</th>\n",
       "      <th>TSLA</th>\n",
       "      <th>TSLA</th>\n",
       "      <th>TSLA</th>\n",
       "      <th>TSLA</th>\n",
       "      <th>TSLA</th>\n",
       "    </tr>\n",
       "    <tr>\n",
       "      <th>Date</th>\n",
       "      <th></th>\n",
       "      <th></th>\n",
       "      <th></th>\n",
       "      <th></th>\n",
       "      <th></th>\n",
       "    </tr>\n",
       "  </thead>\n",
       "  <tbody>\n",
       "    <tr>\n",
       "      <th>2010-12-31</th>\n",
       "      <td>1.053333</td>\n",
       "      <td>1.108667</td>\n",
       "      <td>0.998667</td>\n",
       "      <td>1.076000</td>\n",
       "      <td>1777500</td>\n",
       "    </tr>\n",
       "    <tr>\n",
       "      <th>2011-12-31</th>\n",
       "      <td>1.455333</td>\n",
       "      <td>1.484667</td>\n",
       "      <td>1.407333</td>\n",
       "      <td>1.452000</td>\n",
       "      <td>3594000</td>\n",
       "    </tr>\n",
       "    <tr>\n",
       "      <th>2012-12-31</th>\n",
       "      <td>1.519333</td>\n",
       "      <td>1.790000</td>\n",
       "      <td>1.509333</td>\n",
       "      <td>1.774667</td>\n",
       "      <td>5473500</td>\n",
       "    </tr>\n",
       "    <tr>\n",
       "      <th>2013-12-31</th>\n",
       "      <td>2.194000</td>\n",
       "      <td>2.225333</td>\n",
       "      <td>2.140667</td>\n",
       "      <td>2.205333</td>\n",
       "      <td>6603000</td>\n",
       "    </tr>\n",
       "    <tr>\n",
       "      <th>2014-12-31</th>\n",
       "      <td>9.289333</td>\n",
       "      <td>9.800000</td>\n",
       "      <td>9.111333</td>\n",
       "      <td>9.366667</td>\n",
       "      <td>19983000</td>\n",
       "    </tr>\n",
       "    <tr>\n",
       "      <th>2015-12-31</th>\n",
       "      <td>12.333333</td>\n",
       "      <td>12.619333</td>\n",
       "      <td>12.093333</td>\n",
       "      <td>12.388667</td>\n",
       "      <td>10620000</td>\n",
       "    </tr>\n",
       "    <tr>\n",
       "      <th>2016-12-31</th>\n",
       "      <td>9.578000</td>\n",
       "      <td>10.331333</td>\n",
       "      <td>9.403333</td>\n",
       "      <td>9.488000</td>\n",
       "      <td>24892500</td>\n",
       "    </tr>\n",
       "    <tr>\n",
       "      <th>2017-12-31</th>\n",
       "      <td>14.466000</td>\n",
       "      <td>14.688667</td>\n",
       "      <td>14.064000</td>\n",
       "      <td>14.316667</td>\n",
       "      <td>32800500</td>\n",
       "    </tr>\n",
       "    <tr>\n",
       "      <th>2018-12-31</th>\n",
       "      <td>16.704000</td>\n",
       "      <td>17.355333</td>\n",
       "      <td>16.306000</td>\n",
       "      <td>16.851999</td>\n",
       "      <td>46210500</td>\n",
       "    </tr>\n",
       "    <tr>\n",
       "      <th>2019-12-31</th>\n",
       "      <td>11.931333</td>\n",
       "      <td>12.445333</td>\n",
       "      <td>11.799333</td>\n",
       "      <td>12.073333</td>\n",
       "      <td>36984000</td>\n",
       "    </tr>\n",
       "    <tr>\n",
       "      <th>2020-12-31</th>\n",
       "      <td>24.081333</td>\n",
       "      <td>26.990667</td>\n",
       "      <td>23.367332</td>\n",
       "      <td>24.980000</td>\n",
       "      <td>52073100</td>\n",
       "    </tr>\n",
       "    <tr>\n",
       "      <th>2021-12-31</th>\n",
       "      <td>187.666672</td>\n",
       "      <td>188.736664</td>\n",
       "      <td>179.830002</td>\n",
       "      <td>184.183334</td>\n",
       "      <td>29401800</td>\n",
       "    </tr>\n",
       "    <tr>\n",
       "      <th>2022-12-31</th>\n",
       "      <td>109.099998</td>\n",
       "      <td>116.269997</td>\n",
       "      <td>108.239998</td>\n",
       "      <td>110.349998</td>\n",
       "      <td>41864700</td>\n",
       "    </tr>\n",
       "    <tr>\n",
       "      <th>2023-12-31</th>\n",
       "      <td>108.099998</td>\n",
       "      <td>111.750000</td>\n",
       "      <td>101.809998</td>\n",
       "      <td>103.000000</td>\n",
       "      <td>65125200</td>\n",
       "    </tr>\n",
       "    <tr>\n",
       "      <th>2024-12-31</th>\n",
       "      <td>142.050003</td>\n",
       "      <td>144.440002</td>\n",
       "      <td>138.800003</td>\n",
       "      <td>140.559998</td>\n",
       "      <td>37167600</td>\n",
       "    </tr>\n",
       "    <tr>\n",
       "      <th>2025-12-31</th>\n",
       "      <td>221.860001</td>\n",
       "      <td>230.100006</td>\n",
       "      <td>214.250000</td>\n",
       "      <td>223.779999</td>\n",
       "      <td>45965400</td>\n",
       "    </tr>\n",
       "  </tbody>\n",
       "</table>\n",
       "</div>"
      ],
      "text/plain": [
       "Price            Close        High         Low        Open    Volume\n",
       "Ticker            TSLA        TSLA        TSLA        TSLA      TSLA\n",
       "Date                                                                \n",
       "2010-12-31    1.053333    1.108667    0.998667    1.076000   1777500\n",
       "2011-12-31    1.455333    1.484667    1.407333    1.452000   3594000\n",
       "2012-12-31    1.519333    1.790000    1.509333    1.774667   5473500\n",
       "2013-12-31    2.194000    2.225333    2.140667    2.205333   6603000\n",
       "2014-12-31    9.289333    9.800000    9.111333    9.366667  19983000\n",
       "2015-12-31   12.333333   12.619333   12.093333   12.388667  10620000\n",
       "2016-12-31    9.578000   10.331333    9.403333    9.488000  24892500\n",
       "2017-12-31   14.466000   14.688667   14.064000   14.316667  32800500\n",
       "2018-12-31   16.704000   17.355333   16.306000   16.851999  46210500\n",
       "2019-12-31   11.931333   12.445333   11.799333   12.073333  36984000\n",
       "2020-12-31   24.081333   26.990667   23.367332   24.980000  52073100\n",
       "2021-12-31  187.666672  188.736664  179.830002  184.183334  29401800\n",
       "2022-12-31  109.099998  116.269997  108.239998  110.349998  41864700\n",
       "2023-12-31  108.099998  111.750000  101.809998  103.000000  65125200\n",
       "2024-12-31  142.050003  144.440002  138.800003  140.559998  37167600\n",
       "2025-12-31  221.860001  230.100006  214.250000  223.779999  45965400"
      ]
     },
     "execution_count": 67,
     "metadata": {},
     "output_type": "execute_result"
    }
   ],
   "source": [
    "##A means year end frequency\n",
    "df_tesla.resample(rule='A').min()"
   ]
  },
  {
   "cell_type": "code",
   "execution_count": 68,
   "id": "65ea3184-2b88-40a5-bd7b-b2c492eb7182",
   "metadata": {},
   "outputs": [
    {
     "name": "stderr",
     "output_type": "stream",
     "text": [
      "/var/folders/xz/lx2l1x_95yz90sbk5y2p_79h0000gn/T/ipykernel_19244/3203370108.py:1: FutureWarning: 'A' is deprecated and will be removed in a future version, please use 'YE' instead.\n",
      "  df_tesla.resample(rule='A').max()\n"
     ]
    },
    {
     "data": {
      "text/html": [
       "<div>\n",
       "<style scoped>\n",
       "    .dataframe tbody tr th:only-of-type {\n",
       "        vertical-align: middle;\n",
       "    }\n",
       "\n",
       "    .dataframe tbody tr th {\n",
       "        vertical-align: top;\n",
       "    }\n",
       "\n",
       "    .dataframe thead tr th {\n",
       "        text-align: left;\n",
       "    }\n",
       "\n",
       "    .dataframe thead tr:last-of-type th {\n",
       "        text-align: right;\n",
       "    }\n",
       "</style>\n",
       "<table border=\"1\" class=\"dataframe\">\n",
       "  <thead>\n",
       "    <tr>\n",
       "      <th>Price</th>\n",
       "      <th>Close</th>\n",
       "      <th>High</th>\n",
       "      <th>Low</th>\n",
       "      <th>Open</th>\n",
       "      <th>Volume</th>\n",
       "    </tr>\n",
       "    <tr>\n",
       "      <th>Ticker</th>\n",
       "      <th>TSLA</th>\n",
       "      <th>TSLA</th>\n",
       "      <th>TSLA</th>\n",
       "      <th>TSLA</th>\n",
       "      <th>TSLA</th>\n",
       "    </tr>\n",
       "    <tr>\n",
       "      <th>Date</th>\n",
       "      <th></th>\n",
       "      <th></th>\n",
       "      <th></th>\n",
       "      <th></th>\n",
       "      <th></th>\n",
       "    </tr>\n",
       "  </thead>\n",
       "  <tbody>\n",
       "    <tr>\n",
       "      <th>2010-12-31</th>\n",
       "      <td>2.364667</td>\n",
       "      <td>2.428000</td>\n",
       "      <td>2.316667</td>\n",
       "      <td>2.391333</td>\n",
       "      <td>281494500</td>\n",
       "    </tr>\n",
       "    <tr>\n",
       "      <th>2011-12-31</th>\n",
       "      <td>2.329333</td>\n",
       "      <td>2.333333</td>\n",
       "      <td>2.268667</td>\n",
       "      <td>2.308667</td>\n",
       "      <td>172767000</td>\n",
       "    </tr>\n",
       "    <tr>\n",
       "      <th>2012-12-31</th>\n",
       "      <td>2.534000</td>\n",
       "      <td>2.663333</td>\n",
       "      <td>2.474000</td>\n",
       "      <td>2.546000</td>\n",
       "      <td>85206000</td>\n",
       "    </tr>\n",
       "    <tr>\n",
       "      <th>2013-12-31</th>\n",
       "      <td>12.891333</td>\n",
       "      <td>12.966667</td>\n",
       "      <td>12.558000</td>\n",
       "      <td>12.930667</td>\n",
       "      <td>557458500</td>\n",
       "    </tr>\n",
       "    <tr>\n",
       "      <th>2014-12-31</th>\n",
       "      <td>19.069332</td>\n",
       "      <td>19.427999</td>\n",
       "      <td>18.693333</td>\n",
       "      <td>19.177999</td>\n",
       "      <td>490225500</td>\n",
       "    </tr>\n",
       "    <tr>\n",
       "      <th>2015-12-31</th>\n",
       "      <td>18.817333</td>\n",
       "      <td>19.110001</td>\n",
       "      <td>18.420000</td>\n",
       "      <td>18.680000</td>\n",
       "      <td>234744000</td>\n",
       "    </tr>\n",
       "    <tr>\n",
       "      <th>2016-12-31</th>\n",
       "      <td>17.694668</td>\n",
       "      <td>17.955999</td>\n",
       "      <td>16.967333</td>\n",
       "      <td>17.763332</td>\n",
       "      <td>356136000</td>\n",
       "    </tr>\n",
       "    <tr>\n",
       "      <th>2017-12-31</th>\n",
       "      <td>25.666668</td>\n",
       "      <td>25.974001</td>\n",
       "      <td>25.290001</td>\n",
       "      <td>25.779333</td>\n",
       "      <td>296871000</td>\n",
       "    </tr>\n",
       "    <tr>\n",
       "      <th>2018-12-31</th>\n",
       "      <td>25.304667</td>\n",
       "      <td>25.830667</td>\n",
       "      <td>24.474667</td>\n",
       "      <td>25.000000</td>\n",
       "      <td>504745500</td>\n",
       "    </tr>\n",
       "    <tr>\n",
       "      <th>2019-12-31</th>\n",
       "      <td>28.729334</td>\n",
       "      <td>29.020666</td>\n",
       "      <td>28.423332</td>\n",
       "      <td>29.000000</td>\n",
       "      <td>450091500</td>\n",
       "    </tr>\n",
       "    <tr>\n",
       "      <th>2020-12-31</th>\n",
       "      <td>235.223328</td>\n",
       "      <td>239.573334</td>\n",
       "      <td>230.373337</td>\n",
       "      <td>233.330002</td>\n",
       "      <td>914082000</td>\n",
       "    </tr>\n",
       "    <tr>\n",
       "      <th>2021-12-31</th>\n",
       "      <td>409.970001</td>\n",
       "      <td>414.496674</td>\n",
       "      <td>405.666656</td>\n",
       "      <td>411.470001</td>\n",
       "      <td>268189500</td>\n",
       "    </tr>\n",
       "    <tr>\n",
       "      <th>2022-12-31</th>\n",
       "      <td>399.926666</td>\n",
       "      <td>402.666656</td>\n",
       "      <td>378.679993</td>\n",
       "      <td>396.516663</td>\n",
       "      <td>221923300</td>\n",
       "    </tr>\n",
       "    <tr>\n",
       "      <th>2023-12-31</th>\n",
       "      <td>293.339996</td>\n",
       "      <td>299.290009</td>\n",
       "      <td>289.519989</td>\n",
       "      <td>296.040009</td>\n",
       "      <td>306590600</td>\n",
       "    </tr>\n",
       "    <tr>\n",
       "      <th>2024-12-31</th>\n",
       "      <td>479.859985</td>\n",
       "      <td>488.540009</td>\n",
       "      <td>457.510010</td>\n",
       "      <td>475.899994</td>\n",
       "      <td>243869700</td>\n",
       "    </tr>\n",
       "    <tr>\n",
       "      <th>2025-12-31</th>\n",
       "      <td>428.220001</td>\n",
       "      <td>439.739990</td>\n",
       "      <td>419.750000</td>\n",
       "      <td>432.640015</td>\n",
       "      <td>287499800</td>\n",
       "    </tr>\n",
       "  </tbody>\n",
       "</table>\n",
       "</div>"
      ],
      "text/plain": [
       "Price            Close        High         Low        Open     Volume\n",
       "Ticker            TSLA        TSLA        TSLA        TSLA       TSLA\n",
       "Date                                                                 \n",
       "2010-12-31    2.364667    2.428000    2.316667    2.391333  281494500\n",
       "2011-12-31    2.329333    2.333333    2.268667    2.308667  172767000\n",
       "2012-12-31    2.534000    2.663333    2.474000    2.546000   85206000\n",
       "2013-12-31   12.891333   12.966667   12.558000   12.930667  557458500\n",
       "2014-12-31   19.069332   19.427999   18.693333   19.177999  490225500\n",
       "2015-12-31   18.817333   19.110001   18.420000   18.680000  234744000\n",
       "2016-12-31   17.694668   17.955999   16.967333   17.763332  356136000\n",
       "2017-12-31   25.666668   25.974001   25.290001   25.779333  296871000\n",
       "2018-12-31   25.304667   25.830667   24.474667   25.000000  504745500\n",
       "2019-12-31   28.729334   29.020666   28.423332   29.000000  450091500\n",
       "2020-12-31  235.223328  239.573334  230.373337  233.330002  914082000\n",
       "2021-12-31  409.970001  414.496674  405.666656  411.470001  268189500\n",
       "2022-12-31  399.926666  402.666656  378.679993  396.516663  221923300\n",
       "2023-12-31  293.339996  299.290009  289.519989  296.040009  306590600\n",
       "2024-12-31  479.859985  488.540009  457.510010  475.899994  243869700\n",
       "2025-12-31  428.220001  439.739990  419.750000  432.640015  287499800"
      ]
     },
     "execution_count": 68,
     "metadata": {},
     "output_type": "execute_result"
    }
   ],
   "source": [
    "df_tesla.resample(rule='A').max()"
   ]
  },
  {
   "cell_type": "code",
   "execution_count": 69,
   "id": "be35f834-d426-4845-9d33-57d62c20dea2",
   "metadata": {},
   "outputs": [
    {
     "name": "stderr",
     "output_type": "stream",
     "text": [
      "/var/folders/xz/lx2l1x_95yz90sbk5y2p_79h0000gn/T/ipykernel_19244/2734334641.py:1: FutureWarning: 'A' is deprecated and will be removed in a future version, please use 'YE' instead.\n",
      "  df_tesla.resample(rule='A').max()['Open'].plot()\n"
     ]
    },
    {
     "data": {
      "text/plain": [
       "<Axes: xlabel='Date'>"
      ]
     },
     "execution_count": 69,
     "metadata": {},
     "output_type": "execute_result"
    }
   ],
   "source": [
    "df_tesla.resample(rule='A').max()['Open'].plot()"
   ]
  },
  {
   "cell_type": "code",
   "execution_count": 66,
   "id": "c58bc2fd-0c70-445a-bbce-e412a41bd9e3",
   "metadata": {},
   "outputs": [
    {
     "data": {
      "image/png": "[encoded data removed]",
      "text/plain": [
       "<Figure size 640x480 with 1 Axes>"
      ]
     },
     "metadata": {},
     "output_type": "display_data"
    }
   ],
   "source": [
    "plt.show()"
   ]
  },
  {
   "cell_type": "code",
   "execution_count": 72,
   "id": "f837a6f7-5ee1-4a56-a7c8-bc50ae2d5393",
   "metadata": {},
   "outputs": [
    {
     "name": "stderr",
     "output_type": "stream",
     "text": [
      "/var/folders/xz/lx2l1x_95yz90sbk5y2p_79h0000gn/T/ipykernel_19244/3787916932.py:1: FutureWarning: 'A' is deprecated and will be removed in a future version, please use 'YE' instead.\n",
      "  df_tesla.resample(rule='A').max()['Close'].plot()\n"
     ]
    },
    {
     "data": {
      "text/plain": [
       "<Axes: xlabel='Date'>"
      ]
     },
     "execution_count": 72,
     "metadata": {},
     "output_type": "execute_result"
    }
   ],
   "source": [
    "df_tesla.resample(rule='A').max()['Close'].plot()"
   ]
  },
  {
   "cell_type": "code",
   "execution_count": 73,
   "id": "0a463ced-1026-4e4f-88c0-6c6cec97fafa",
   "metadata": {},
   "outputs": [
    {
     "data": {
      "image/png": "[encoded data removed]",
      "text/plain": [
       "<Figure size 640x480 with 1 Axes>"
      ]
     },
     "metadata": {},
     "output_type": "display_data"
    }
   ],
   "source": [
    "plt.show()"
   ]
  },
  {
   "cell_type": "code",
   "execution_count": 80,
   "id": "acd9e895-2557-4cbe-8c9b-ff0cb8092cf0",
   "metadata": {},
   "outputs": [
    {
     "data": {
      "text/plain": [
       "<Axes: xlabel='Date'>"
      ]
     },
     "execution_count": 80,
     "metadata": {},
     "output_type": "execute_result"
    }
   ],
   "source": [
    "##QS means quarterly start frequency\n",
    "##refer towards data science documentation\n",
    "df_tesla.resample(rule='QS').max()['High'].plot()"
   ]
  },
  {
   "cell_type": "code",
   "execution_count": 81,
   "id": "df6691dc-1d5a-4a87-bddc-1608ca20bbba",
   "metadata": {},
   "outputs": [
    {
     "data": {
      "image/png": "[encoded data removed]",
      "text/plain": [
       "<Figure size 640x480 with 1 Axes>"
      ]
     },
     "metadata": {},
     "output_type": "display_data"
    }
   ],
   "source": [
    "plt.show()"
   ]
  },
  {
   "cell_type": "code",
   "execution_count": 82,
   "id": "8a9b5dd3-2d29-4c95-9bde-a9927ab9f91d",
   "metadata": {},
   "outputs": [
    {
     "name": "stderr",
     "output_type": "stream",
     "text": [
      "/var/folders/xz/lx2l1x_95yz90sbk5y2p_79h0000gn/T/ipykernel_19244/2449080110.py:3: FutureWarning: 'BA' is deprecated and will be removed in a future version, please use 'BYE' instead.\n",
      "  df_tesla.resample(rule='BA').max()['High'].plot()\n"
     ]
    },
    {
     "data": {
      "text/plain": [
       "<Axes: xlabel='Date'>"
      ]
     },
     "execution_count": 82,
     "metadata": {},
     "output_type": "execute_result"
    }
   ],
   "source": [
    "##BA stands for busniness year end frequency\n",
    "##refer towards data science documentation\n",
    "df_tesla.resample(rule='BA').max()['High'].plot()"
   ]
  },
  {
   "cell_type": "code",
   "execution_count": 83,
   "id": "385a8452-04f1-4ccd-a4e8-b7951080df02",
   "metadata": {},
   "outputs": [
    {
     "data": {
      "image/png": "[encoded data removed]",
      "text/plain": [
       "<Figure size 640x480 with 1 Axes>"
      ]
     },
     "metadata": {},
     "output_type": "display_data"
    }
   ],
   "source": [
    "plt.show()"
   ]
  },
  {
   "cell_type": "code",
   "execution_count": 84,
   "id": "99a64956-899b-47ce-aa9e-6a8a3ba1e48e",
   "metadata": {},
   "outputs": [
    {
     "name": "stderr",
     "output_type": "stream",
     "text": [
      "/var/folders/xz/lx2l1x_95yz90sbk5y2p_79h0000gn/T/ipykernel_19244/3291263487.py:1: FutureWarning: 'BA' is deprecated and will be removed in a future version, please use 'BYE' instead.\n",
      "  df_tesla.resample(rule='BA').max()['High']\n"
     ]
    },
    {
     "data": {
      "text/html": [
       "<div>\n",
       "<style scoped>\n",
       "    .dataframe tbody tr th:only-of-type {\n",
       "        vertical-align: middle;\n",
       "    }\n",
       "\n",
       "    .dataframe tbody tr th {\n",
       "        vertical-align: top;\n",
       "    }\n",
       "\n",
       "    .dataframe thead th {\n",
       "        text-align: right;\n",
       "    }\n",
       "</style>\n",
       "<table border=\"1\" class=\"dataframe\">\n",
       "  <thead>\n",
       "    <tr style=\"text-align: right;\">\n",
       "      <th>Ticker</th>\n",
       "      <th>TSLA</th>\n",
       "    </tr>\n",
       "    <tr>\n",
       "      <th>Date</th>\n",
       "      <th></th>\n",
       "    </tr>\n",
       "  </thead>\n",
       "  <tbody>\n",
       "    <tr>\n",
       "      <th>2010-12-31</th>\n",
       "      <td>2.428000</td>\n",
       "    </tr>\n",
       "    <tr>\n",
       "      <th>2011-12-30</th>\n",
       "      <td>2.333333</td>\n",
       "    </tr>\n",
       "    <tr>\n",
       "      <th>2012-12-31</th>\n",
       "      <td>2.663333</td>\n",
       "    </tr>\n",
       "    <tr>\n",
       "      <th>2013-12-31</th>\n",
       "      <td>12.966667</td>\n",
       "    </tr>\n",
       "    <tr>\n",
       "      <th>2014-12-31</th>\n",
       "      <td>19.427999</td>\n",
       "    </tr>\n",
       "    <tr>\n",
       "      <th>2015-12-31</th>\n",
       "      <td>19.110001</td>\n",
       "    </tr>\n",
       "    <tr>\n",
       "      <th>2016-12-30</th>\n",
       "      <td>17.955999</td>\n",
       "    </tr>\n",
       "    <tr>\n",
       "      <th>2017-12-29</th>\n",
       "      <td>25.974001</td>\n",
       "    </tr>\n",
       "    <tr>\n",
       "      <th>2018-12-31</th>\n",
       "      <td>25.830667</td>\n",
       "    </tr>\n",
       "    <tr>\n",
       "      <th>2019-12-31</th>\n",
       "      <td>29.020666</td>\n",
       "    </tr>\n",
       "    <tr>\n",
       "      <th>2020-12-31</th>\n",
       "      <td>239.573334</td>\n",
       "    </tr>\n",
       "    <tr>\n",
       "      <th>2021-12-31</th>\n",
       "      <td>414.496674</td>\n",
       "    </tr>\n",
       "    <tr>\n",
       "      <th>2022-12-30</th>\n",
       "      <td>402.666656</td>\n",
       "    </tr>\n",
       "    <tr>\n",
       "      <th>2023-12-29</th>\n",
       "      <td>299.290009</td>\n",
       "    </tr>\n",
       "    <tr>\n",
       "      <th>2024-12-31</th>\n",
       "      <td>488.540009</td>\n",
       "    </tr>\n",
       "    <tr>\n",
       "      <th>2025-12-31</th>\n",
       "      <td>439.739990</td>\n",
       "    </tr>\n",
       "  </tbody>\n",
       "</table>\n",
       "</div>"
      ],
      "text/plain": [
       "Ticker            TSLA\n",
       "Date                  \n",
       "2010-12-31    2.428000\n",
       "2011-12-30    2.333333\n",
       "2012-12-31    2.663333\n",
       "2013-12-31   12.966667\n",
       "2014-12-31   19.427999\n",
       "2015-12-31   19.110001\n",
       "2016-12-30   17.955999\n",
       "2017-12-29   25.974001\n",
       "2018-12-31   25.830667\n",
       "2019-12-31   29.020666\n",
       "2020-12-31  239.573334\n",
       "2021-12-31  414.496674\n",
       "2022-12-30  402.666656\n",
       "2023-12-29  299.290009\n",
       "2024-12-31  488.540009\n",
       "2025-12-31  439.739990"
      ]
     },
     "execution_count": 84,
     "metadata": {},
     "output_type": "execute_result"
    }
   ],
   "source": [
    "\n",
    "df_tesla.resample(rule='BA').max()['High']"
   ]
  },
  {
   "cell_type": "code",
   "execution_count": 85,
   "id": "9650984f-b4a3-411a-9195-45b545874f94",
   "metadata": {},
   "outputs": [
    {
     "data": {
      "text/plain": [
       "<Axes: xlabel='Date'>"
      ]
     },
     "execution_count": 85,
     "metadata": {},
     "output_type": "execute_result"
    }
   ],
   "source": [
    "##BQS stands for busniness year end frequency\n",
    "##refer towards data science documentation\n",
    "df_tesla.resample(rule='BQS').max()['High'].plot()"
   ]
  },
  {
   "cell_type": "code",
   "execution_count": 86,
   "id": "4035234d-f285-4363-98a9-b6ece2cc9e6b",
   "metadata": {},
   "outputs": [
    {
     "data": {
      "image/png": "[encoded data removed]",
      "text/plain": [
       "<Figure size 640x480 with 1 Axes>"
      ]
     },
     "metadata": {},
     "output_type": "display_data"
    }
   ],
   "source": [
    "plt.show()"
   ]
  },
  {
   "cell_type": "code",
   "execution_count": 87,
   "id": "f128b4b7-26ca-4074-a780-34ca59dac5ef",
   "metadata": {},
   "outputs": [
    {
     "name": "stderr",
     "output_type": "stream",
     "text": [
      "/var/folders/xz/lx2l1x_95yz90sbk5y2p_79h0000gn/T/ipykernel_19244/2266209578.py:3: FutureWarning: 'BA' is deprecated and will be removed in a future version, please use 'BYE' instead.\n",
      "  df_tesla['Open'].resample(rule='BA').mean().plot(kind='bar')\n"
     ]
    },
    {
     "data": {
      "text/plain": [
       "<Axes: xlabel='Date'>"
      ]
     },
     "execution_count": 87,
     "metadata": {},
     "output_type": "execute_result"
    }
   ],
   "source": [
    "###plotting\n",
    "\n",
    "df_tesla['Open'].resample(rule='BA').mean().plot(kind='bar')"
   ]
  },
  {
   "cell_type": "code",
   "execution_count": 88,
   "id": "58662e00-32ff-4802-859a-bd5c8e717773",
   "metadata": {},
   "outputs": [
    {
     "data": {
      "image/png": "[encoded data removed]",
      "text/plain": [
       "<Figure size 640x480 with 1 Axes>"
      ]
     },
     "metadata": {},
     "output_type": "display_data"
    }
   ],
   "source": [
    "plt.show()"
   ]
  },
  {
   "cell_type": "code",
   "execution_count": 89,
   "id": "0a44809c-4bac-48b3-a14e-37938cd5df46",
   "metadata": {},
   "outputs": [
    {
     "name": "stderr",
     "output_type": "stream",
     "text": [
      "/var/folders/xz/lx2l1x_95yz90sbk5y2p_79h0000gn/T/ipykernel_19244/1601731199.py:1: FutureWarning: 'M' is deprecated and will be removed in a future version, please use 'ME' instead.\n",
      "  df_tesla['Open'].resample(rule='M').mean()\n"
     ]
    },
    {
     "data": {
      "text/html": [
       "<div>\n",
       "<style scoped>\n",
       "    .dataframe tbody tr th:only-of-type {\n",
       "        vertical-align: middle;\n",
       "    }\n",
       "\n",
       "    .dataframe tbody tr th {\n",
       "        vertical-align: top;\n",
       "    }\n",
       "\n",
       "    .dataframe thead th {\n",
       "        text-align: right;\n",
       "    }\n",
       "</style>\n",
       "<table border=\"1\" class=\"dataframe\">\n",
       "  <thead>\n",
       "    <tr style=\"text-align: right;\">\n",
       "      <th>Ticker</th>\n",
       "      <th>TSLA</th>\n",
       "    </tr>\n",
       "    <tr>\n",
       "      <th>Date</th>\n",
       "      <th></th>\n",
       "    </tr>\n",
       "  </thead>\n",
       "  <tbody>\n",
       "    <tr>\n",
       "      <th>2010-06-30</th>\n",
       "      <td>1.493000</td>\n",
       "    </tr>\n",
       "    <tr>\n",
       "      <th>2010-07-31</th>\n",
       "      <td>1.338222</td>\n",
       "    </tr>\n",
       "    <tr>\n",
       "      <th>2010-08-31</th>\n",
       "      <td>1.303030</td>\n",
       "    </tr>\n",
       "    <tr>\n",
       "      <th>2010-09-30</th>\n",
       "      <td>1.385270</td>\n",
       "    </tr>\n",
       "    <tr>\n",
       "      <th>2010-10-31</th>\n",
       "      <td>1.381556</td>\n",
       "    </tr>\n",
       "    <tr>\n",
       "      <th>...</th>\n",
       "      <td>...</td>\n",
       "    </tr>\n",
       "    <tr>\n",
       "      <th>2025-02-28</th>\n",
       "      <td>347.426316</td>\n",
       "    </tr>\n",
       "    <tr>\n",
       "      <th>2025-03-31</th>\n",
       "      <td>256.712381</td>\n",
       "    </tr>\n",
       "    <tr>\n",
       "      <th>2025-04-30</th>\n",
       "      <td>253.637143</td>\n",
       "    </tr>\n",
       "    <tr>\n",
       "      <th>2025-05-31</th>\n",
       "      <td>322.466665</td>\n",
       "    </tr>\n",
       "    <tr>\n",
       "      <th>2025-06-30</th>\n",
       "      <td>323.936666</td>\n",
       "    </tr>\n",
       "  </tbody>\n",
       "</table>\n",
       "<p>181 rows × 1 columns</p>\n",
       "</div>"
      ],
      "text/plain": [
       "Ticker            TSLA\n",
       "Date                  \n",
       "2010-06-30    1.493000\n",
       "2010-07-31    1.338222\n",
       "2010-08-31    1.303030\n",
       "2010-09-30    1.385270\n",
       "2010-10-31    1.381556\n",
       "...                ...\n",
       "2025-02-28  347.426316\n",
       "2025-03-31  256.712381\n",
       "2025-04-30  253.637143\n",
       "2025-05-31  322.466665\n",
       "2025-06-30  323.936666\n",
       "\n",
       "[181 rows x 1 columns]"
      ]
     },
     "execution_count": 89,
     "metadata": {},
     "output_type": "execute_result"
    }
   ],
   "source": [
    "df_tesla['Open'].resample(rule='M').mean()"
   ]
  },
  {
   "cell_type": "code",
   "execution_count": 96,
   "id": "e056fdcd-7f31-4631-b599-0e470271e7d6",
   "metadata": {},
   "outputs": [
    {
     "name": "stderr",
     "output_type": "stream",
     "text": [
      "/var/folders/xz/lx2l1x_95yz90sbk5y2p_79h0000gn/T/ipykernel_19244/1116436960.py:1: FutureWarning: 'M' is deprecated and will be removed in a future version, please use 'ME' instead.\n",
      "  df_tesla['Open'].resample(rule='M').max().plot(kind='bar', figsize=(25,6))\n"
     ]
    },
    {
     "data": {
      "text/plain": [
       "<Axes: xlabel='Date'>"
      ]
     },
     "execution_count": 96,
     "metadata": {},
     "output_type": "execute_result"
    }
   ],
   "source": [
    "df_tesla['Open'].resample(rule='M').max().plot(kind='bar', figsize=(25,6))"
   ]
  },
  {
   "cell_type": "code",
   "execution_count": 97,
   "id": "2a8aa4d3-5be8-4992-b01f-4fe5998bd2bb",
   "metadata": {},
   "outputs": [
    {
     "data": {
      "image/png": "[encoded data removed]",
      "text/plain": [
       "<Figure size 2500x600 with 1 Axes>"
      ]
     },
     "metadata": {},
     "output_type": "display_data"
    }
   ],
   "source": [
    "plt.show()"
   ]
  },
  {
   "cell_type": "code",
   "execution_count": 98,
   "id": "d96f1ce1-5294-4392-be1f-2ff1d90b41a4",
   "metadata": {},
   "outputs": [
    {
     "data": {
      "text/html": [
       "<div>\n",
       "<style scoped>\n",
       "    .dataframe tbody tr th:only-of-type {\n",
       "        vertical-align: middle;\n",
       "    }\n",
       "\n",
       "    .dataframe tbody tr th {\n",
       "        vertical-align: top;\n",
       "    }\n",
       "\n",
       "    .dataframe thead tr th {\n",
       "        text-align: left;\n",
       "    }\n",
       "\n",
       "    .dataframe thead tr:last-of-type th {\n",
       "        text-align: right;\n",
       "    }\n",
       "</style>\n",
       "<table border=\"1\" class=\"dataframe\">\n",
       "  <thead>\n",
       "    <tr>\n",
       "      <th>Price</th>\n",
       "      <th>Close</th>\n",
       "      <th>High</th>\n",
       "      <th>Low</th>\n",
       "      <th>Open</th>\n",
       "      <th>Volume</th>\n",
       "    </tr>\n",
       "    <tr>\n",
       "      <th>Ticker</th>\n",
       "      <th>TSLA</th>\n",
       "      <th>TSLA</th>\n",
       "      <th>TSLA</th>\n",
       "      <th>TSLA</th>\n",
       "      <th>TSLA</th>\n",
       "    </tr>\n",
       "    <tr>\n",
       "      <th>Date</th>\n",
       "      <th></th>\n",
       "      <th></th>\n",
       "      <th></th>\n",
       "      <th></th>\n",
       "      <th></th>\n",
       "    </tr>\n",
       "  </thead>\n",
       "  <tbody>\n",
       "    <tr>\n",
       "      <th>2010-06-29</th>\n",
       "      <td>1.592667</td>\n",
       "      <td>1.666667</td>\n",
       "      <td>1.169333</td>\n",
       "      <td>1.266667</td>\n",
       "      <td>281494500</td>\n",
       "    </tr>\n",
       "    <tr>\n",
       "      <th>2010-06-30</th>\n",
       "      <td>1.588667</td>\n",
       "      <td>2.028000</td>\n",
       "      <td>1.553333</td>\n",
       "      <td>1.719333</td>\n",
       "      <td>257806500</td>\n",
       "    </tr>\n",
       "    <tr>\n",
       "      <th>2010-07-01</th>\n",
       "      <td>1.464000</td>\n",
       "      <td>1.728000</td>\n",
       "      <td>1.351333</td>\n",
       "      <td>1.666667</td>\n",
       "      <td>123282000</td>\n",
       "    </tr>\n",
       "    <tr>\n",
       "      <th>2010-07-02</th>\n",
       "      <td>1.280000</td>\n",
       "      <td>1.540000</td>\n",
       "      <td>1.247333</td>\n",
       "      <td>1.533333</td>\n",
       "      <td>77097000</td>\n",
       "    </tr>\n",
       "    <tr>\n",
       "      <th>2010-07-06</th>\n",
       "      <td>1.074000</td>\n",
       "      <td>1.333333</td>\n",
       "      <td>1.055333</td>\n",
       "      <td>1.333333</td>\n",
       "      <td>103003500</td>\n",
       "    </tr>\n",
       "  </tbody>\n",
       "</table>\n",
       "</div>"
      ],
      "text/plain": [
       "Price          Close      High       Low      Open     Volume\n",
       "Ticker          TSLA      TSLA      TSLA      TSLA       TSLA\n",
       "Date                                                         \n",
       "2010-06-29  1.592667  1.666667  1.169333  1.266667  281494500\n",
       "2010-06-30  1.588667  2.028000  1.553333  1.719333  257806500\n",
       "2010-07-01  1.464000  1.728000  1.351333  1.666667  123282000\n",
       "2010-07-02  1.280000  1.540000  1.247333  1.533333   77097000\n",
       "2010-07-06  1.074000  1.333333  1.055333  1.333333  103003500"
      ]
     },
     "execution_count": 98,
     "metadata": {},
     "output_type": "execute_result"
    }
   ],
   "source": [
    "df_tesla.head()"
   ]
  },
  {
   "cell_type": "code",
   "execution_count": 105,
   "id": "9bd5082e-23ef-41ec-a59c-4a751944468c",
   "metadata": {},
   "outputs": [
    {
     "data": {
      "text/html": [
       "<div>\n",
       "<style scoped>\n",
       "    .dataframe tbody tr th:only-of-type {\n",
       "        vertical-align: middle;\n",
       "    }\n",
       "\n",
       "    .dataframe tbody tr th {\n",
       "        vertical-align: top;\n",
       "    }\n",
       "\n",
       "    .dataframe thead th {\n",
       "        text-align: right;\n",
       "    }\n",
       "</style>\n",
       "<table border=\"1\" class=\"dataframe\">\n",
       "  <thead>\n",
       "    <tr style=\"text-align: right;\">\n",
       "      <th>Ticker</th>\n",
       "      <th>TSLA</th>\n",
       "    </tr>\n",
       "    <tr>\n",
       "      <th>Date</th>\n",
       "      <th></th>\n",
       "    </tr>\n",
       "  </thead>\n",
       "  <tbody>\n",
       "    <tr>\n",
       "      <th>2010-06-29</th>\n",
       "      <td>NaN</td>\n",
       "    </tr>\n",
       "    <tr>\n",
       "      <th>2010-06-30</th>\n",
       "      <td>NaN</td>\n",
       "    </tr>\n",
       "    <tr>\n",
       "      <th>2010-07-01</th>\n",
       "      <td>NaN</td>\n",
       "    </tr>\n",
       "    <tr>\n",
       "      <th>2010-07-02</th>\n",
       "      <td>NaN</td>\n",
       "    </tr>\n",
       "    <tr>\n",
       "      <th>2010-07-06</th>\n",
       "      <td>NaN</td>\n",
       "    </tr>\n",
       "    <tr>\n",
       "      <th>2010-07-07</th>\n",
       "      <td>NaN</td>\n",
       "    </tr>\n",
       "    <tr>\n",
       "      <th>2010-07-08</th>\n",
       "      <td>NaN</td>\n",
       "    </tr>\n",
       "    <tr>\n",
       "      <th>2010-07-09</th>\n",
       "      <td>NaN</td>\n",
       "    </tr>\n",
       "    <tr>\n",
       "      <th>2010-07-12</th>\n",
       "      <td>NaN</td>\n",
       "    </tr>\n",
       "    <tr>\n",
       "      <th>2010-07-13</th>\n",
       "      <td>NaN</td>\n",
       "    </tr>\n",
       "    <tr>\n",
       "      <th>2010-07-14</th>\n",
       "      <td>1.414242</td>\n",
       "    </tr>\n",
       "    <tr>\n",
       "      <th>2010-07-15</th>\n",
       "      <td>1.393030</td>\n",
       "    </tr>\n",
       "    <tr>\n",
       "      <th>2010-07-16</th>\n",
       "      <td>1.337758</td>\n",
       "    </tr>\n",
       "    <tr>\n",
       "      <th>2010-07-19</th>\n",
       "      <td>1.315515</td>\n",
       "    </tr>\n",
       "    <tr>\n",
       "      <th>2010-07-20</th>\n",
       "      <td>1.307939</td>\n",
       "    </tr>\n",
       "    <tr>\n",
       "      <th>2010-07-21</th>\n",
       "      <td>1.313394</td>\n",
       "    </tr>\n",
       "    <tr>\n",
       "      <th>2010-07-22</th>\n",
       "      <td>1.341394</td>\n",
       "    </tr>\n",
       "    <tr>\n",
       "      <th>2010-07-23</th>\n",
       "      <td>1.365879</td>\n",
       "    </tr>\n",
       "    <tr>\n",
       "      <th>2010-07-26</th>\n",
       "      <td>1.387697</td>\n",
       "    </tr>\n",
       "    <tr>\n",
       "      <th>2010-07-27</th>\n",
       "      <td>1.406545</td>\n",
       "    </tr>\n",
       "  </tbody>\n",
       "</table>\n",
       "</div>"
      ],
      "text/plain": [
       "Ticker          TSLA\n",
       "Date                \n",
       "2010-06-29       NaN\n",
       "2010-06-30       NaN\n",
       "2010-07-01       NaN\n",
       "2010-07-02       NaN\n",
       "2010-07-06       NaN\n",
       "2010-07-07       NaN\n",
       "2010-07-08       NaN\n",
       "2010-07-09       NaN\n",
       "2010-07-12       NaN\n",
       "2010-07-13       NaN\n",
       "2010-07-14  1.414242\n",
       "2010-07-15  1.393030\n",
       "2010-07-16  1.337758\n",
       "2010-07-19  1.315515\n",
       "2010-07-20  1.307939\n",
       "2010-07-21  1.313394\n",
       "2010-07-22  1.341394\n",
       "2010-07-23  1.365879\n",
       "2010-07-26  1.387697\n",
       "2010-07-27  1.406545"
      ]
     },
     "execution_count": 105,
     "metadata": {},
     "output_type": "execute_result"
    }
   ],
   "source": [
    "df_tesla['High'].rolling(11).mean().head(20)"
   ]
  },
  {
   "cell_type": "code",
   "execution_count": 106,
   "id": "99c7d40e-e5ac-412e-959c-c92aab2712a9",
   "metadata": {},
   "outputs": [
    {
     "data": {
      "text/html": [
       "<div>\n",
       "<style scoped>\n",
       "    .dataframe tbody tr th:only-of-type {\n",
       "        vertical-align: middle;\n",
       "    }\n",
       "\n",
       "    .dataframe tbody tr th {\n",
       "        vertical-align: top;\n",
       "    }\n",
       "\n",
       "    .dataframe thead tr th {\n",
       "        text-align: left;\n",
       "    }\n",
       "\n",
       "    .dataframe thead tr:last-of-type th {\n",
       "        text-align: right;\n",
       "    }\n",
       "</style>\n",
       "<table border=\"1\" class=\"dataframe\">\n",
       "  <thead>\n",
       "    <tr>\n",
       "      <th>Price</th>\n",
       "      <th>Close</th>\n",
       "      <th>High</th>\n",
       "      <th>Low</th>\n",
       "      <th>Open</th>\n",
       "      <th>Volume</th>\n",
       "    </tr>\n",
       "    <tr>\n",
       "      <th>Ticker</th>\n",
       "      <th>TSLA</th>\n",
       "      <th>TSLA</th>\n",
       "      <th>TSLA</th>\n",
       "      <th>TSLA</th>\n",
       "      <th>TSLA</th>\n",
       "    </tr>\n",
       "    <tr>\n",
       "      <th>Date</th>\n",
       "      <th></th>\n",
       "      <th></th>\n",
       "      <th></th>\n",
       "      <th></th>\n",
       "      <th></th>\n",
       "    </tr>\n",
       "  </thead>\n",
       "  <tbody>\n",
       "    <tr>\n",
       "      <th>2010-06-29</th>\n",
       "      <td>1.592667</td>\n",
       "      <td>1.666667</td>\n",
       "      <td>1.169333</td>\n",
       "      <td>1.266667</td>\n",
       "      <td>281494500</td>\n",
       "    </tr>\n",
       "    <tr>\n",
       "      <th>2010-06-30</th>\n",
       "      <td>1.588667</td>\n",
       "      <td>2.028000</td>\n",
       "      <td>1.553333</td>\n",
       "      <td>1.719333</td>\n",
       "      <td>257806500</td>\n",
       "    </tr>\n",
       "    <tr>\n",
       "      <th>2010-07-01</th>\n",
       "      <td>1.464000</td>\n",
       "      <td>1.728000</td>\n",
       "      <td>1.351333</td>\n",
       "      <td>1.666667</td>\n",
       "      <td>123282000</td>\n",
       "    </tr>\n",
       "    <tr>\n",
       "      <th>2010-07-02</th>\n",
       "      <td>1.280000</td>\n",
       "      <td>1.540000</td>\n",
       "      <td>1.247333</td>\n",
       "      <td>1.533333</td>\n",
       "      <td>77097000</td>\n",
       "    </tr>\n",
       "    <tr>\n",
       "      <th>2010-07-06</th>\n",
       "      <td>1.074000</td>\n",
       "      <td>1.333333</td>\n",
       "      <td>1.055333</td>\n",
       "      <td>1.333333</td>\n",
       "      <td>103003500</td>\n",
       "    </tr>\n",
       "    <tr>\n",
       "      <th>2010-07-07</th>\n",
       "      <td>1.053333</td>\n",
       "      <td>1.108667</td>\n",
       "      <td>0.998667</td>\n",
       "      <td>1.093333</td>\n",
       "      <td>103825500</td>\n",
       "    </tr>\n",
       "    <tr>\n",
       "      <th>2010-07-08</th>\n",
       "      <td>1.164000</td>\n",
       "      <td>1.168000</td>\n",
       "      <td>1.038000</td>\n",
       "      <td>1.076000</td>\n",
       "      <td>115671000</td>\n",
       "    </tr>\n",
       "    <tr>\n",
       "      <th>2010-07-09</th>\n",
       "      <td>1.160000</td>\n",
       "      <td>1.193333</td>\n",
       "      <td>1.103333</td>\n",
       "      <td>1.172000</td>\n",
       "      <td>60759000</td>\n",
       "    </tr>\n",
       "    <tr>\n",
       "      <th>2010-07-12</th>\n",
       "      <td>1.136667</td>\n",
       "      <td>1.204667</td>\n",
       "      <td>1.133333</td>\n",
       "      <td>1.196667</td>\n",
       "      <td>33037500</td>\n",
       "    </tr>\n",
       "    <tr>\n",
       "      <th>2010-07-13</th>\n",
       "      <td>1.209333</td>\n",
       "      <td>1.242667</td>\n",
       "      <td>1.126667</td>\n",
       "      <td>1.159333</td>\n",
       "      <td>40201500</td>\n",
       "    </tr>\n",
       "    <tr>\n",
       "      <th>2010-07-14</th>\n",
       "      <td>1.322667</td>\n",
       "      <td>1.343333</td>\n",
       "      <td>1.184000</td>\n",
       "      <td>1.196000</td>\n",
       "      <td>62928000</td>\n",
       "    </tr>\n",
       "    <tr>\n",
       "      <th>2010-07-15</th>\n",
       "      <td>1.326000</td>\n",
       "      <td>1.433333</td>\n",
       "      <td>1.266667</td>\n",
       "      <td>1.329333</td>\n",
       "      <td>56097000</td>\n",
       "    </tr>\n",
       "    <tr>\n",
       "      <th>2010-07-16</th>\n",
       "      <td>1.376000</td>\n",
       "      <td>1.420000</td>\n",
       "      <td>1.336667</td>\n",
       "      <td>1.380000</td>\n",
       "      <td>39319500</td>\n",
       "    </tr>\n",
       "    <tr>\n",
       "      <th>2010-07-19</th>\n",
       "      <td>1.460667</td>\n",
       "      <td>1.483333</td>\n",
       "      <td>1.394667</td>\n",
       "      <td>1.424667</td>\n",
       "      <td>37297500</td>\n",
       "    </tr>\n",
       "    <tr>\n",
       "      <th>2010-07-20</th>\n",
       "      <td>1.353333</td>\n",
       "      <td>1.456667</td>\n",
       "      <td>1.336667</td>\n",
       "      <td>1.456667</td>\n",
       "      <td>27379500</td>\n",
       "    </tr>\n",
       "    <tr>\n",
       "      <th>2010-07-21</th>\n",
       "      <td>1.348000</td>\n",
       "      <td>1.393333</td>\n",
       "      <td>1.300000</td>\n",
       "      <td>1.377333</td>\n",
       "      <td>18787500</td>\n",
       "    </tr>\n",
       "    <tr>\n",
       "      <th>2010-07-22</th>\n",
       "      <td>1.400000</td>\n",
       "      <td>1.416667</td>\n",
       "      <td>1.358000</td>\n",
       "      <td>1.366667</td>\n",
       "      <td>14367000</td>\n",
       "    </tr>\n",
       "    <tr>\n",
       "      <th>2010-07-23</th>\n",
       "      <td>1.419333</td>\n",
       "      <td>1.437333</td>\n",
       "      <td>1.404000</td>\n",
       "      <td>1.412667</td>\n",
       "      <td>9804000</td>\n",
       "    </tr>\n",
       "    <tr>\n",
       "      <th>2010-07-26</th>\n",
       "      <td>1.396667</td>\n",
       "      <td>1.433333</td>\n",
       "      <td>1.353333</td>\n",
       "      <td>1.433333</td>\n",
       "      <td>13833000</td>\n",
       "    </tr>\n",
       "    <tr>\n",
       "      <th>2010-07-27</th>\n",
       "      <td>1.370000</td>\n",
       "      <td>1.412000</td>\n",
       "      <td>1.350667</td>\n",
       "      <td>1.394000</td>\n",
       "      <td>9295500</td>\n",
       "    </tr>\n",
       "  </tbody>\n",
       "</table>\n",
       "</div>"
      ],
      "text/plain": [
       "Price          Close      High       Low      Open     Volume\n",
       "Ticker          TSLA      TSLA      TSLA      TSLA       TSLA\n",
       "Date                                                         \n",
       "2010-06-29  1.592667  1.666667  1.169333  1.266667  281494500\n",
       "2010-06-30  1.588667  2.028000  1.553333  1.719333  257806500\n",
       "2010-07-01  1.464000  1.728000  1.351333  1.666667  123282000\n",
       "2010-07-02  1.280000  1.540000  1.247333  1.533333   77097000\n",
       "2010-07-06  1.074000  1.333333  1.055333  1.333333  103003500\n",
       "2010-07-07  1.053333  1.108667  0.998667  1.093333  103825500\n",
       "2010-07-08  1.164000  1.168000  1.038000  1.076000  115671000\n",
       "2010-07-09  1.160000  1.193333  1.103333  1.172000   60759000\n",
       "2010-07-12  1.136667  1.204667  1.133333  1.196667   33037500\n",
       "2010-07-13  1.209333  1.242667  1.126667  1.159333   40201500\n",
       "2010-07-14  1.322667  1.343333  1.184000  1.196000   62928000\n",
       "2010-07-15  1.326000  1.433333  1.266667  1.329333   56097000\n",
       "2010-07-16  1.376000  1.420000  1.336667  1.380000   39319500\n",
       "2010-07-19  1.460667  1.483333  1.394667  1.424667   37297500\n",
       "2010-07-20  1.353333  1.456667  1.336667  1.456667   27379500\n",
       "2010-07-21  1.348000  1.393333  1.300000  1.377333   18787500\n",
       "2010-07-22  1.400000  1.416667  1.358000  1.366667   14367000\n",
       "2010-07-23  1.419333  1.437333  1.404000  1.412667    9804000\n",
       "2010-07-26  1.396667  1.433333  1.353333  1.433333   13833000\n",
       "2010-07-27  1.370000  1.412000  1.350667  1.394000    9295500"
      ]
     },
     "execution_count": 106,
     "metadata": {},
     "output_type": "execute_result"
    }
   ],
   "source": [
    "df_tesla.head(20)"
   ]
  },
  {
   "cell_type": "code",
   "execution_count": 107,
   "id": "89e3ea7c-d699-4676-95bc-7af9c863520a",
   "metadata": {},
   "outputs": [],
   "source": [
    "df_tesla['Open : 30 days rolling']=df_tesla['Open'].rolling(30).mean()"
   ]
  },
  {
   "cell_type": "code",
   "execution_count": 109,
   "id": "0d5182dc-732a-4abd-b7c0-14250833ca5f",
   "metadata": {},
   "outputs": [
    {
     "data": {
      "text/html": [
       "<div>\n",
       "<style scoped>\n",
       "    .dataframe tbody tr th:only-of-type {\n",
       "        vertical-align: middle;\n",
       "    }\n",
       "\n",
       "    .dataframe tbody tr th {\n",
       "        vertical-align: top;\n",
       "    }\n",
       "\n",
       "    .dataframe thead tr th {\n",
       "        text-align: left;\n",
       "    }\n",
       "\n",
       "    .dataframe thead tr:last-of-type th {\n",
       "        text-align: right;\n",
       "    }\n",
       "</style>\n",
       "<table border=\"1\" class=\"dataframe\">\n",
       "  <thead>\n",
       "    <tr>\n",
       "      <th>Price</th>\n",
       "      <th>Close</th>\n",
       "      <th>High</th>\n",
       "      <th>Low</th>\n",
       "      <th>Open</th>\n",
       "      <th>Volume</th>\n",
       "      <th>Open : 30 days rolling</th>\n",
       "    </tr>\n",
       "    <tr>\n",
       "      <th>Ticker</th>\n",
       "      <th>TSLA</th>\n",
       "      <th>TSLA</th>\n",
       "      <th>TSLA</th>\n",
       "      <th>TSLA</th>\n",
       "      <th>TSLA</th>\n",
       "      <th></th>\n",
       "    </tr>\n",
       "    <tr>\n",
       "      <th>Date</th>\n",
       "      <th></th>\n",
       "      <th></th>\n",
       "      <th></th>\n",
       "      <th></th>\n",
       "      <th></th>\n",
       "      <th></th>\n",
       "    </tr>\n",
       "  </thead>\n",
       "  <tbody>\n",
       "    <tr>\n",
       "      <th>2010-06-29</th>\n",
       "      <td>1.592667</td>\n",
       "      <td>1.666667</td>\n",
       "      <td>1.169333</td>\n",
       "      <td>1.266667</td>\n",
       "      <td>281494500</td>\n",
       "      <td>NaN</td>\n",
       "    </tr>\n",
       "    <tr>\n",
       "      <th>2010-06-30</th>\n",
       "      <td>1.588667</td>\n",
       "      <td>2.028000</td>\n",
       "      <td>1.553333</td>\n",
       "      <td>1.719333</td>\n",
       "      <td>257806500</td>\n",
       "      <td>NaN</td>\n",
       "    </tr>\n",
       "    <tr>\n",
       "      <th>2010-07-01</th>\n",
       "      <td>1.464000</td>\n",
       "      <td>1.728000</td>\n",
       "      <td>1.351333</td>\n",
       "      <td>1.666667</td>\n",
       "      <td>123282000</td>\n",
       "      <td>NaN</td>\n",
       "    </tr>\n",
       "    <tr>\n",
       "      <th>2010-07-02</th>\n",
       "      <td>1.280000</td>\n",
       "      <td>1.540000</td>\n",
       "      <td>1.247333</td>\n",
       "      <td>1.533333</td>\n",
       "      <td>77097000</td>\n",
       "      <td>NaN</td>\n",
       "    </tr>\n",
       "    <tr>\n",
       "      <th>2010-07-06</th>\n",
       "      <td>1.074000</td>\n",
       "      <td>1.333333</td>\n",
       "      <td>1.055333</td>\n",
       "      <td>1.333333</td>\n",
       "      <td>103003500</td>\n",
       "      <td>NaN</td>\n",
       "    </tr>\n",
       "    <tr>\n",
       "      <th>2010-07-07</th>\n",
       "      <td>1.053333</td>\n",
       "      <td>1.108667</td>\n",
       "      <td>0.998667</td>\n",
       "      <td>1.093333</td>\n",
       "      <td>103825500</td>\n",
       "      <td>NaN</td>\n",
       "    </tr>\n",
       "    <tr>\n",
       "      <th>2010-07-08</th>\n",
       "      <td>1.164000</td>\n",
       "      <td>1.168000</td>\n",
       "      <td>1.038000</td>\n",
       "      <td>1.076000</td>\n",
       "      <td>115671000</td>\n",
       "      <td>NaN</td>\n",
       "    </tr>\n",
       "    <tr>\n",
       "      <th>2010-07-09</th>\n",
       "      <td>1.160000</td>\n",
       "      <td>1.193333</td>\n",
       "      <td>1.103333</td>\n",
       "      <td>1.172000</td>\n",
       "      <td>60759000</td>\n",
       "      <td>NaN</td>\n",
       "    </tr>\n",
       "    <tr>\n",
       "      <th>2010-07-12</th>\n",
       "      <td>1.136667</td>\n",
       "      <td>1.204667</td>\n",
       "      <td>1.133333</td>\n",
       "      <td>1.196667</td>\n",
       "      <td>33037500</td>\n",
       "      <td>NaN</td>\n",
       "    </tr>\n",
       "    <tr>\n",
       "      <th>2010-07-13</th>\n",
       "      <td>1.209333</td>\n",
       "      <td>1.242667</td>\n",
       "      <td>1.126667</td>\n",
       "      <td>1.159333</td>\n",
       "      <td>40201500</td>\n",
       "      <td>NaN</td>\n",
       "    </tr>\n",
       "    <tr>\n",
       "      <th>2010-07-14</th>\n",
       "      <td>1.322667</td>\n",
       "      <td>1.343333</td>\n",
       "      <td>1.184000</td>\n",
       "      <td>1.196000</td>\n",
       "      <td>62928000</td>\n",
       "      <td>NaN</td>\n",
       "    </tr>\n",
       "    <tr>\n",
       "      <th>2010-07-15</th>\n",
       "      <td>1.326000</td>\n",
       "      <td>1.433333</td>\n",
       "      <td>1.266667</td>\n",
       "      <td>1.329333</td>\n",
       "      <td>56097000</td>\n",
       "      <td>NaN</td>\n",
       "    </tr>\n",
       "    <tr>\n",
       "      <th>2010-07-16</th>\n",
       "      <td>1.376000</td>\n",
       "      <td>1.420000</td>\n",
       "      <td>1.336667</td>\n",
       "      <td>1.380000</td>\n",
       "      <td>39319500</td>\n",
       "      <td>NaN</td>\n",
       "    </tr>\n",
       "    <tr>\n",
       "      <th>2010-07-19</th>\n",
       "      <td>1.460667</td>\n",
       "      <td>1.483333</td>\n",
       "      <td>1.394667</td>\n",
       "      <td>1.424667</td>\n",
       "      <td>37297500</td>\n",
       "      <td>NaN</td>\n",
       "    </tr>\n",
       "    <tr>\n",
       "      <th>2010-07-20</th>\n",
       "      <td>1.353333</td>\n",
       "      <td>1.456667</td>\n",
       "      <td>1.336667</td>\n",
       "      <td>1.456667</td>\n",
       "      <td>27379500</td>\n",
       "      <td>NaN</td>\n",
       "    </tr>\n",
       "    <tr>\n",
       "      <th>2010-07-21</th>\n",
       "      <td>1.348000</td>\n",
       "      <td>1.393333</td>\n",
       "      <td>1.300000</td>\n",
       "      <td>1.377333</td>\n",
       "      <td>18787500</td>\n",
       "      <td>NaN</td>\n",
       "    </tr>\n",
       "    <tr>\n",
       "      <th>2010-07-22</th>\n",
       "      <td>1.400000</td>\n",
       "      <td>1.416667</td>\n",
       "      <td>1.358000</td>\n",
       "      <td>1.366667</td>\n",
       "      <td>14367000</td>\n",
       "      <td>NaN</td>\n",
       "    </tr>\n",
       "    <tr>\n",
       "      <th>2010-07-23</th>\n",
       "      <td>1.419333</td>\n",
       "      <td>1.437333</td>\n",
       "      <td>1.404000</td>\n",
       "      <td>1.412667</td>\n",
       "      <td>9804000</td>\n",
       "      <td>NaN</td>\n",
       "    </tr>\n",
       "    <tr>\n",
       "      <th>2010-07-26</th>\n",
       "      <td>1.396667</td>\n",
       "      <td>1.433333</td>\n",
       "      <td>1.353333</td>\n",
       "      <td>1.433333</td>\n",
       "      <td>13833000</td>\n",
       "      <td>NaN</td>\n",
       "    </tr>\n",
       "    <tr>\n",
       "      <th>2010-07-27</th>\n",
       "      <td>1.370000</td>\n",
       "      <td>1.412000</td>\n",
       "      <td>1.350667</td>\n",
       "      <td>1.394000</td>\n",
       "      <td>9295500</td>\n",
       "      <td>NaN</td>\n",
       "    </tr>\n",
       "    <tr>\n",
       "      <th>2010-07-28</th>\n",
       "      <td>1.381333</td>\n",
       "      <td>1.393333</td>\n",
       "      <td>1.367333</td>\n",
       "      <td>1.370000</td>\n",
       "      <td>7008000</td>\n",
       "      <td>NaN</td>\n",
       "    </tr>\n",
       "    <tr>\n",
       "      <th>2010-07-29</th>\n",
       "      <td>1.356667</td>\n",
       "      <td>1.392000</td>\n",
       "      <td>1.333333</td>\n",
       "      <td>1.384667</td>\n",
       "      <td>9240000</td>\n",
       "      <td>NaN</td>\n",
       "    </tr>\n",
       "    <tr>\n",
       "      <th>2010-07-30</th>\n",
       "      <td>1.329333</td>\n",
       "      <td>1.362667</td>\n",
       "      <td>1.303333</td>\n",
       "      <td>1.346667</td>\n",
       "      <td>6403500</td>\n",
       "      <td>NaN</td>\n",
       "    </tr>\n",
       "    <tr>\n",
       "      <th>2010-08-02</th>\n",
       "      <td>1.394667</td>\n",
       "      <td>1.398000</td>\n",
       "      <td>1.355333</td>\n",
       "      <td>1.366667</td>\n",
       "      <td>10771500</td>\n",
       "      <td>NaN</td>\n",
       "    </tr>\n",
       "    <tr>\n",
       "      <th>2010-08-03</th>\n",
       "      <td>1.463333</td>\n",
       "      <td>1.463333</td>\n",
       "      <td>1.388000</td>\n",
       "      <td>1.400000</td>\n",
       "      <td>18457500</td>\n",
       "      <td>NaN</td>\n",
       "    </tr>\n",
       "    <tr>\n",
       "      <th>2010-08-04</th>\n",
       "      <td>1.417333</td>\n",
       "      <td>1.478667</td>\n",
       "      <td>1.390000</td>\n",
       "      <td>1.463333</td>\n",
       "      <td>13695000</td>\n",
       "      <td>NaN</td>\n",
       "    </tr>\n",
       "    <tr>\n",
       "      <th>2010-08-05</th>\n",
       "      <td>1.363333</td>\n",
       "      <td>1.436667</td>\n",
       "      <td>1.336667</td>\n",
       "      <td>1.436000</td>\n",
       "      <td>11943000</td>\n",
       "      <td>NaN</td>\n",
       "    </tr>\n",
       "    <tr>\n",
       "      <th>2010-08-06</th>\n",
       "      <td>1.306000</td>\n",
       "      <td>1.344000</td>\n",
       "      <td>1.301333</td>\n",
       "      <td>1.340000</td>\n",
       "      <td>11128500</td>\n",
       "      <td>NaN</td>\n",
       "    </tr>\n",
       "    <tr>\n",
       "      <th>2010-08-09</th>\n",
       "      <td>1.306667</td>\n",
       "      <td>1.332000</td>\n",
       "      <td>1.296667</td>\n",
       "      <td>1.326667</td>\n",
       "      <td>12190500</td>\n",
       "      <td>NaN</td>\n",
       "    </tr>\n",
       "    <tr>\n",
       "      <th>2010-08-10</th>\n",
       "      <td>1.268667</td>\n",
       "      <td>1.310000</td>\n",
       "      <td>1.254667</td>\n",
       "      <td>1.310000</td>\n",
       "      <td>19219500</td>\n",
       "      <td>1.357711</td>\n",
       "    </tr>\n",
       "    <tr>\n",
       "      <th>2010-08-11</th>\n",
       "      <td>1.193333</td>\n",
       "      <td>1.258667</td>\n",
       "      <td>1.190000</td>\n",
       "      <td>1.246000</td>\n",
       "      <td>11964000</td>\n",
       "      <td>1.357022</td>\n",
       "    </tr>\n",
       "  </tbody>\n",
       "</table>\n",
       "</div>"
      ],
      "text/plain": [
       "Price          Close      High       Low      Open     Volume  \\\n",
       "Ticker          TSLA      TSLA      TSLA      TSLA       TSLA   \n",
       "Date                                                            \n",
       "2010-06-29  1.592667  1.666667  1.169333  1.266667  281494500   \n",
       "2010-06-30  1.588667  2.028000  1.553333  1.719333  257806500   \n",
       "2010-07-01  1.464000  1.728000  1.351333  1.666667  123282000   \n",
       "2010-07-02  1.280000  1.540000  1.247333  1.533333   77097000   \n",
       "2010-07-06  1.074000  1.333333  1.055333  1.333333  103003500   \n",
       "2010-07-07  1.053333  1.108667  0.998667  1.093333  103825500   \n",
       "2010-07-08  1.164000  1.168000  1.038000  1.076000  115671000   \n",
       "2010-07-09  1.160000  1.193333  1.103333  1.172000   60759000   \n",
       "2010-07-12  1.136667  1.204667  1.133333  1.196667   33037500   \n",
       "2010-07-13  1.209333  1.242667  1.126667  1.159333   40201500   \n",
       "2010-07-14  1.322667  1.343333  1.184000  1.196000   62928000   \n",
       "2010-07-15  1.326000  1.433333  1.266667  1.329333   56097000   \n",
       "2010-07-16  1.376000  1.420000  1.336667  1.380000   39319500   \n",
       "2010-07-19  1.460667  1.483333  1.394667  1.424667   37297500   \n",
       "2010-07-20  1.353333  1.456667  1.336667  1.456667   27379500   \n",
       "2010-07-21  1.348000  1.393333  1.300000  1.377333   18787500   \n",
       "2010-07-22  1.400000  1.416667  1.358000  1.366667   14367000   \n",
       "2010-07-23  1.419333  1.437333  1.404000  1.412667    9804000   \n",
       "2010-07-26  1.396667  1.433333  1.353333  1.433333   13833000   \n",
       "2010-07-27  1.370000  1.412000  1.350667  1.394000    9295500   \n",
       "2010-07-28  1.381333  1.393333  1.367333  1.370000    7008000   \n",
       "2010-07-29  1.356667  1.392000  1.333333  1.384667    9240000   \n",
       "2010-07-30  1.329333  1.362667  1.303333  1.346667    6403500   \n",
       "2010-08-02  1.394667  1.398000  1.355333  1.366667   10771500   \n",
       "2010-08-03  1.463333  1.463333  1.388000  1.400000   18457500   \n",
       "2010-08-04  1.417333  1.478667  1.390000  1.463333   13695000   \n",
       "2010-08-05  1.363333  1.436667  1.336667  1.436000   11943000   \n",
       "2010-08-06  1.306000  1.344000  1.301333  1.340000   11128500   \n",
       "2010-08-09  1.306667  1.332000  1.296667  1.326667   12190500   \n",
       "2010-08-10  1.268667  1.310000  1.254667  1.310000   19219500   \n",
       "2010-08-11  1.193333  1.258667  1.190000  1.246000   11964000   \n",
       "\n",
       "Price      Open : 30 days rolling  \n",
       "Ticker                             \n",
       "Date                               \n",
       "2010-06-29                    NaN  \n",
       "2010-06-30                    NaN  \n",
       "2010-07-01                    NaN  \n",
       "2010-07-02                    NaN  \n",
       "2010-07-06                    NaN  \n",
       "2010-07-07                    NaN  \n",
       "2010-07-08                    NaN  \n",
       "2010-07-09                    NaN  \n",
       "2010-07-12                    NaN  \n",
       "2010-07-13                    NaN  \n",
       "2010-07-14                    NaN  \n",
       "2010-07-15                    NaN  \n",
       "2010-07-16                    NaN  \n",
       "2010-07-19                    NaN  \n",
       "2010-07-20                    NaN  \n",
       "2010-07-21                    NaN  \n",
       "2010-07-22                    NaN  \n",
       "2010-07-23                    NaN  \n",
       "2010-07-26                    NaN  \n",
       "2010-07-27                    NaN  \n",
       "2010-07-28                    NaN  \n",
       "2010-07-29                    NaN  \n",
       "2010-07-30                    NaN  \n",
       "2010-08-02                    NaN  \n",
       "2010-08-03                    NaN  \n",
       "2010-08-04                    NaN  \n",
       "2010-08-05                    NaN  \n",
       "2010-08-06                    NaN  \n",
       "2010-08-09                    NaN  \n",
       "2010-08-10               1.357711  \n",
       "2010-08-11               1.357022  "
      ]
     },
     "execution_count": 109,
     "metadata": {},
     "output_type": "execute_result"
    }
   ],
   "source": [
    "df_tesla.head(31)"
   ]
  },
  {
   "cell_type": "code",
   "execution_count": 114,
   "id": "0a78925d-d7e0-460f-83cb-f581ab54e2a7",
   "metadata": {},
   "outputs": [
    {
     "data": {
      "text/plain": [
       "<Axes: xlabel='Date'>"
      ]
     },
     "execution_count": 114,
     "metadata": {},
     "output_type": "execute_result"
    }
   ],
   "source": [
    "df_tesla[['Open','Open : 30 days rolling']].plot(figsize=(12,5))"
   ]
  },
  {
   "cell_type": "code",
   "execution_count": 115,
   "id": "b9402d2d-8e42-403c-9920-26edc1c9775a",
   "metadata": {},
   "outputs": [
    {
     "data": {
      "image/png": "[encoded data removed]",
      "text/plain": [
       "<Figure size 1200x500 with 1 Axes>"
      ]
     },
     "metadata": {},
     "output_type": "display_data"
    }
   ],
   "source": [
    "plt.show()"
   ]
  },
  {
   "cell_type": "markdown",
   "id": "0b7811b4-ce66-4405-af39-d8c6e2ff4145",
   "metadata": {},
   "source": [
    "### Assignment\n",
    "##Check news too\n",
    "1. read microsoft data using pandas data reader\n",
    "2. Get the max price of the share from 2017 to 2022\n",
    "3. Which is the date of the highest price of stock?\n",
    "4. Which is the date of the lowest price of stock?"
   ]
  },
  {
   "cell_type": "code",
   "execution_count": null,
   "id": "34808c14-3590-4be6-b4ac-1ae1b3157358",
   "metadata": {},
   "outputs": [],
   "source": []
  }
 ],
 "metadata": {
  "kernelspec": {
   "display_name": "Python [conda env:base] *",
   "language": "python",
   "name": "conda-base-py"
  },
  "language_info": {
   "codemirror_mode": {
    "name": "ipython",
    "version": 3
   },
   "file_extension": ".py",
   "mimetype": "text/x-python",
   "name": "python",
   "nbconvert_exporter": "python",
   "pygments_lexer": "ipython3",
   "version": "3.12.7"
  }
 },
 "nbformat": 4,
 "nbformat_minor": 5
}
